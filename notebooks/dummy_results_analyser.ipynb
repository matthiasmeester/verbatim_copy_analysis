{
 "cells": [
  {
   "cell_type": "code",
   "execution_count": 11,
   "metadata": {
    "collapsed": true,
    "pycharm": {
     "name": "#%%\n"
    }
   },
   "outputs": [],
   "source": [
    "import pandas as pd\n",
    "import numpy as np"
   ]
  },
  {
   "cell_type": "code",
   "execution_count": 12,
   "outputs": [
    {
     "data": {
      "text/plain": "     real_verbatim  predicted_verbatim        test_case     category  \\\nrun                                                                    \n0             0.00                0.00      Full random  Full Random   \n0             0.00                0.00      Full random  Full Random   \n0             0.00                0.00      Full random  Full Random   \n0             0.00                0.00      Full random  Full Random   \n0             0.00                0.00      Full random  Full Random   \n..             ...                 ...              ...          ...   \n9             0.15                0.15  Long range 0.15   Long Range   \n9             0.15                0.15  Long range 0.15   Long Range   \n9             0.15                0.15  Long range 0.15   Long Range   \n9             0.15                0.15  Long range 0.15   Long Range   \n9             0.15                0.15  Long range 0.15   Long Range   \n\n                          algorithm_name  \nrun                                       \n0                  MHV($d=1 \\comma r=1$)  \n0                  MHV($d=2 \\comma r=2$)  \n0                  MHV($d=1 \\comma r=2$)  \n0                  MHV($d=2 \\comma r=1$)  \n0              TNA($r=1 \\comma T=0.001$)  \n..                                   ...  \n9         TNA($r=r_{max} \\comma T=0.01$)  \n9        TNA($r=r_{max} \\comma T=0.001$)  \n9        TNA($r=r_{max} \\comma T=0.001$)  \n9     TNA($r=r_{max} \\comma T=10m_{nh}$)  \n9    TNA($r=r_{max} \\comma T=100m_{nh}$)  \n\n[1540 rows x 5 columns]",
      "text/html": "<div>\n<style scoped>\n    .dataframe tbody tr th:only-of-type {\n        vertical-align: middle;\n    }\n\n    .dataframe tbody tr th {\n        vertical-align: top;\n    }\n\n    .dataframe thead th {\n        text-align: right;\n    }\n</style>\n<table border=\"1\" class=\"dataframe\">\n  <thead>\n    <tr style=\"text-align: right;\">\n      <th></th>\n      <th>real_verbatim</th>\n      <th>predicted_verbatim</th>\n      <th>test_case</th>\n      <th>category</th>\n      <th>algorithm_name</th>\n    </tr>\n    <tr>\n      <th>run</th>\n      <th></th>\n      <th></th>\n      <th></th>\n      <th></th>\n      <th></th>\n    </tr>\n  </thead>\n  <tbody>\n    <tr>\n      <th>0</th>\n      <td>0.00</td>\n      <td>0.00</td>\n      <td>Full random</td>\n      <td>Full Random</td>\n      <td>MHV($d=1 \\comma r=1$)</td>\n    </tr>\n    <tr>\n      <th>0</th>\n      <td>0.00</td>\n      <td>0.00</td>\n      <td>Full random</td>\n      <td>Full Random</td>\n      <td>MHV($d=2 \\comma r=2$)</td>\n    </tr>\n    <tr>\n      <th>0</th>\n      <td>0.00</td>\n      <td>0.00</td>\n      <td>Full random</td>\n      <td>Full Random</td>\n      <td>MHV($d=1 \\comma r=2$)</td>\n    </tr>\n    <tr>\n      <th>0</th>\n      <td>0.00</td>\n      <td>0.00</td>\n      <td>Full random</td>\n      <td>Full Random</td>\n      <td>MHV($d=2 \\comma r=1$)</td>\n    </tr>\n    <tr>\n      <th>0</th>\n      <td>0.00</td>\n      <td>0.00</td>\n      <td>Full random</td>\n      <td>Full Random</td>\n      <td>TNA($r=1 \\comma T=0.001$)</td>\n    </tr>\n    <tr>\n      <th>...</th>\n      <td>...</td>\n      <td>...</td>\n      <td>...</td>\n      <td>...</td>\n      <td>...</td>\n    </tr>\n    <tr>\n      <th>9</th>\n      <td>0.15</td>\n      <td>0.15</td>\n      <td>Long range 0.15</td>\n      <td>Long Range</td>\n      <td>TNA($r=r_{max} \\comma T=0.01$)</td>\n    </tr>\n    <tr>\n      <th>9</th>\n      <td>0.15</td>\n      <td>0.15</td>\n      <td>Long range 0.15</td>\n      <td>Long Range</td>\n      <td>TNA($r=r_{max} \\comma T=0.001$)</td>\n    </tr>\n    <tr>\n      <th>9</th>\n      <td>0.15</td>\n      <td>0.15</td>\n      <td>Long range 0.15</td>\n      <td>Long Range</td>\n      <td>TNA($r=r_{max} \\comma T=0.001$)</td>\n    </tr>\n    <tr>\n      <th>9</th>\n      <td>0.15</td>\n      <td>0.15</td>\n      <td>Long range 0.15</td>\n      <td>Long Range</td>\n      <td>TNA($r=r_{max} \\comma T=10m_{nh}$)</td>\n    </tr>\n    <tr>\n      <th>9</th>\n      <td>0.15</td>\n      <td>0.15</td>\n      <td>Long range 0.15</td>\n      <td>Long Range</td>\n      <td>TNA($r=r_{max} \\comma T=100m_{nh}$)</td>\n    </tr>\n  </tbody>\n</table>\n<p>1540 rows × 5 columns</p>\n</div>"
     },
     "execution_count": 12,
     "metadata": {},
     "output_type": "execute_result"
    }
   ],
   "source": [
    "results_df = pd.read_csv('output/results.csv')\n",
    "results_df = results_df.round(3).set_index('run')\n",
    "results_df"
   ],
   "metadata": {
    "collapsed": false,
    "pycharm": {
     "name": "#%%\n"
    }
   }
  },
  {
   "cell_type": "code",
   "execution_count": 13,
   "outputs": [],
   "source": [
    "def mean_relative_error(true, predicted):\n",
    "    if np.allclose(true, 0):\n",
    "        return np.mean(predicted)\n",
    "    relative_error = np.abs(predicted - true) / true\n",
    "    return np.mean(relative_error)\n"
   ],
   "metadata": {
    "collapsed": false,
    "pycharm": {
     "name": "#%%\n"
    }
   }
  },
  {
   "cell_type": "code",
   "execution_count": 14,
   "outputs": [],
   "source": [
    "results_table_data = []\n",
    "\n",
    "for algorithm_name in results_df['algorithm_name'].unique():\n",
    "    algorithm_df = results_df.loc[results_df['algorithm_name'] == algorithm_name]\n",
    "    algorithm_table_row = {\n",
    "        'Name': algorithm_name\n",
    "    }\n",
    "    for category in algorithm_df['category'].unique():\n",
    "        category_results = algorithm_df.loc[algorithm_df['category'] == category]\n",
    "        mre = mean_relative_error(category_results['real_verbatim'], category_results['predicted_verbatim'])\n",
    "        algorithm_table_row[category] = round(mre, 3)\n",
    "\n",
    "    results_table_data.append(algorithm_table_row)"
   ],
   "metadata": {
    "collapsed": false,
    "pycharm": {
     "name": "#%%\n"
    }
   }
  },
  {
   "cell_type": "code",
   "execution_count": 15,
   "outputs": [
    {
     "data": {
      "text/plain": "                                     Full Random  Full Verbatim  Checkerboard  \\\nName                                                                            \nMHV($d=1 \\comma r=1$)                      0.000            0.0         0.555   \nMHV($d=2 \\comma r=2$)                      0.000            0.0         0.464   \nMHV($d=1 \\comma r=2$)                      0.000            0.0         0.446   \nMHV($d=2 \\comma r=1$)                      0.000            0.0         0.555   \nTNA($r=1 \\comma T=0.001$)                  0.000            0.0         0.333   \nTNA($r=2 \\comma T=0.001$)                  0.000            0.0         0.000   \nTNA($r=3 \\comma T=0.001$)                  0.001            0.0         0.000   \nTNA($r=3 \\comma T=100m_{nh}$)              0.001            0.0         0.000   \nTNA($r=r_{max} \\comma T=0.1$)              0.000            0.0         0.000   \nTNA($r=r_{max} \\comma T=0.01$)             0.000            0.0         0.000   \nTNA($r=r_{max} \\comma T=0.001$)            0.000            0.0         0.000   \nTNA($r=r_{max} \\comma T=10m_{nh}$)         0.000            0.0         0.000   \nTNA($r=r_{max} \\comma T=100m_{nh}$)        0.000            0.0         0.000   \n\n                                     Patches  Long Range  \nName                                                      \nMHV($d=1 \\comma r=1$)                  0.093       0.900  \nMHV($d=2 \\comma r=2$)                  0.104       0.899  \nMHV($d=1 \\comma r=2$)                  0.107       0.899  \nMHV($d=2 \\comma r=1$)                  0.093       0.900  \nTNA($r=1 \\comma T=0.001$)              0.005       0.665  \nTNA($r=2 \\comma T=0.001$)              0.003       0.320  \nTNA($r=3 \\comma T=0.001$)              0.004       0.099  \nTNA($r=3 \\comma T=100m_{nh}$)          0.004       0.099  \nTNA($r=r_{max} \\comma T=0.1$)          1.000       0.557  \nTNA($r=r_{max} \\comma T=0.01$)         0.137       0.000  \nTNA($r=r_{max} \\comma T=0.001$)        0.001       0.000  \nTNA($r=r_{max} \\comma T=10m_{nh}$)     0.001       0.000  \nTNA($r=r_{max} \\comma T=100m_{nh}$)    0.137       0.000  ",
      "text/html": "<div>\n<style scoped>\n    .dataframe tbody tr th:only-of-type {\n        vertical-align: middle;\n    }\n\n    .dataframe tbody tr th {\n        vertical-align: top;\n    }\n\n    .dataframe thead th {\n        text-align: right;\n    }\n</style>\n<table border=\"1\" class=\"dataframe\">\n  <thead>\n    <tr style=\"text-align: right;\">\n      <th></th>\n      <th>Full Random</th>\n      <th>Full Verbatim</th>\n      <th>Checkerboard</th>\n      <th>Patches</th>\n      <th>Long Range</th>\n    </tr>\n    <tr>\n      <th>Name</th>\n      <th></th>\n      <th></th>\n      <th></th>\n      <th></th>\n      <th></th>\n    </tr>\n  </thead>\n  <tbody>\n    <tr>\n      <th>MHV($d=1 \\comma r=1$)</th>\n      <td>0.000</td>\n      <td>0.0</td>\n      <td>0.555</td>\n      <td>0.093</td>\n      <td>0.900</td>\n    </tr>\n    <tr>\n      <th>MHV($d=2 \\comma r=2$)</th>\n      <td>0.000</td>\n      <td>0.0</td>\n      <td>0.464</td>\n      <td>0.104</td>\n      <td>0.899</td>\n    </tr>\n    <tr>\n      <th>MHV($d=1 \\comma r=2$)</th>\n      <td>0.000</td>\n      <td>0.0</td>\n      <td>0.446</td>\n      <td>0.107</td>\n      <td>0.899</td>\n    </tr>\n    <tr>\n      <th>MHV($d=2 \\comma r=1$)</th>\n      <td>0.000</td>\n      <td>0.0</td>\n      <td>0.555</td>\n      <td>0.093</td>\n      <td>0.900</td>\n    </tr>\n    <tr>\n      <th>TNA($r=1 \\comma T=0.001$)</th>\n      <td>0.000</td>\n      <td>0.0</td>\n      <td>0.333</td>\n      <td>0.005</td>\n      <td>0.665</td>\n    </tr>\n    <tr>\n      <th>TNA($r=2 \\comma T=0.001$)</th>\n      <td>0.000</td>\n      <td>0.0</td>\n      <td>0.000</td>\n      <td>0.003</td>\n      <td>0.320</td>\n    </tr>\n    <tr>\n      <th>TNA($r=3 \\comma T=0.001$)</th>\n      <td>0.001</td>\n      <td>0.0</td>\n      <td>0.000</td>\n      <td>0.004</td>\n      <td>0.099</td>\n    </tr>\n    <tr>\n      <th>TNA($r=3 \\comma T=100m_{nh}$)</th>\n      <td>0.001</td>\n      <td>0.0</td>\n      <td>0.000</td>\n      <td>0.004</td>\n      <td>0.099</td>\n    </tr>\n    <tr>\n      <th>TNA($r=r_{max} \\comma T=0.1$)</th>\n      <td>0.000</td>\n      <td>0.0</td>\n      <td>0.000</td>\n      <td>1.000</td>\n      <td>0.557</td>\n    </tr>\n    <tr>\n      <th>TNA($r=r_{max} \\comma T=0.01$)</th>\n      <td>0.000</td>\n      <td>0.0</td>\n      <td>0.000</td>\n      <td>0.137</td>\n      <td>0.000</td>\n    </tr>\n    <tr>\n      <th>TNA($r=r_{max} \\comma T=0.001$)</th>\n      <td>0.000</td>\n      <td>0.0</td>\n      <td>0.000</td>\n      <td>0.001</td>\n      <td>0.000</td>\n    </tr>\n    <tr>\n      <th>TNA($r=r_{max} \\comma T=10m_{nh}$)</th>\n      <td>0.000</td>\n      <td>0.0</td>\n      <td>0.000</td>\n      <td>0.001</td>\n      <td>0.000</td>\n    </tr>\n    <tr>\n      <th>TNA($r=r_{max} \\comma T=100m_{nh}$)</th>\n      <td>0.000</td>\n      <td>0.0</td>\n      <td>0.000</td>\n      <td>0.137</td>\n      <td>0.000</td>\n    </tr>\n  </tbody>\n</table>\n</div>"
     },
     "execution_count": 15,
     "metadata": {},
     "output_type": "execute_result"
    }
   ],
   "source": [
    "results_table = pd.DataFrame(results_table_data)\n",
    "results_table = results_table.set_index('Name')\n",
    "results_table"
   ],
   "metadata": {
    "collapsed": false,
    "pycharm": {
     "name": "#%%\n"
    }
   }
  },
  {
   "cell_type": "code",
   "execution_count": 16,
   "outputs": [],
   "source": [
    "results_table.to_csv('output/results_mae_category_table.csv')"
   ],
   "metadata": {
    "collapsed": false,
    "pycharm": {
     "name": "#%%\n"
    }
   }
  },
  {
   "cell_type": "code",
   "execution_count": 17,
   "outputs": [],
   "source": [
    "results_table_data = []\n",
    "\n",
    "for algorithm_name in results_df['algorithm_name'].unique():\n",
    "    algorithm_df = results_df.loc[results_df['algorithm_name'] == algorithm_name]\n",
    "    algorithm_table_row = {\n",
    "        'name': algorithm_name\n",
    "    }\n",
    "    for test_case in algorithm_df['test_case'].unique():\n",
    "        test_case_results = algorithm_df.loc[algorithm_df['test_case'] == test_case]\n",
    "        mre = mean_relative_error(test_case_results['real_verbatim'], test_case_results['predicted_verbatim'])\n",
    "        algorithm_table_row[test_case] = round(mre, 3)\n",
    "\n",
    "    results_table_data.append(algorithm_table_row)"
   ],
   "metadata": {
    "collapsed": false,
    "pycharm": {
     "name": "#%%\n"
    }
   }
  },
  {
   "cell_type": "code",
   "execution_count": 18,
   "outputs": [
    {
     "data": {
      "text/plain": "                                     Full random  Full verbatim  \\\nname                                                              \nMHV($d=1 \\comma r=1$)                      0.000            0.0   \nMHV($d=2 \\comma r=2$)                      0.000            0.0   \nMHV($d=1 \\comma r=2$)                      0.000            0.0   \nMHV($d=2 \\comma r=1$)                      0.000            0.0   \nTNA($r=1 \\comma T=0.001$)                  0.000            0.0   \nTNA($r=2 \\comma T=0.001$)                  0.000            0.0   \nTNA($r=3 \\comma T=0.001$)                  0.001            0.0   \nTNA($r=3 \\comma T=100m_{nh}$)              0.001            0.0   \nTNA($r=r_{max} \\comma T=0.1$)              0.000            0.0   \nTNA($r=r_{max} \\comma T=0.01$)             0.000            0.0   \nTNA($r=r_{max} \\comma T=0.001$)            0.000            0.0   \nTNA($r=r_{max} \\comma T=10m_{nh}$)         0.000            0.0   \nTNA($r=r_{max} \\comma T=100m_{nh}$)        0.000            0.0   \n\n                                     Checkerboard 3x3  Checkerboard 1x1  \\\nname                                                                      \nMHV($d=1 \\comma r=1$)                           0.332             1.000   \nMHV($d=2 \\comma r=2$)                           0.410             0.573   \nMHV($d=1 \\comma r=2$)                           0.442             0.454   \nMHV($d=2 \\comma r=1$)                           0.332             1.000   \nTNA($r=1 \\comma T=0.001$)                       0.000             1.000   \nTNA($r=2 \\comma T=0.001$)                       0.000             0.000   \nTNA($r=3 \\comma T=0.001$)                       0.000             0.000   \nTNA($r=3 \\comma T=100m_{nh}$)                   0.000             0.000   \nTNA($r=r_{max} \\comma T=0.1$)                   0.000             0.000   \nTNA($r=r_{max} \\comma T=0.01$)                  0.000             0.000   \nTNA($r=r_{max} \\comma T=0.001$)                 0.000             0.000   \nTNA($r=r_{max} \\comma T=10m_{nh}$)              0.000             0.000   \nTNA($r=r_{max} \\comma T=100m_{nh}$)             0.000             0.000   \n\n                                     Checkerboard 5x5  Patches 5  Patches 10  \\\nname                                                                           \nMHV($d=1 \\comma r=1$)                           0.332      0.090       0.091   \nMHV($d=2 \\comma r=2$)                           0.410      0.103       0.099   \nMHV($d=1 \\comma r=2$)                           0.442      0.106       0.102   \nMHV($d=2 \\comma r=1$)                           0.332      0.090       0.091   \nTNA($r=1 \\comma T=0.001$)                       0.000      0.005       0.002   \nTNA($r=2 \\comma T=0.001$)                       0.000      0.005       0.001   \nTNA($r=3 \\comma T=0.001$)                       0.000      0.008       0.003   \nTNA($r=3 \\comma T=100m_{nh}$)                   0.000      0.008       0.003   \nTNA($r=r_{max} \\comma T=0.1$)                   0.000      1.000       1.000   \nTNA($r=r_{max} \\comma T=0.01$)                  0.000      0.164       0.110   \nTNA($r=r_{max} \\comma T=0.001$)                 0.000      0.001       0.001   \nTNA($r=r_{max} \\comma T=10m_{nh}$)              0.000      0.001       0.001   \nTNA($r=r_{max} \\comma T=100m_{nh}$)             0.000      0.164       0.110   \n\n                                     Patches 20  Long range 0.05  \\\nname                                                               \nMHV($d=1 \\comma r=1$)                     0.099            0.950   \nMHV($d=2 \\comma r=2$)                     0.109            0.950   \nMHV($d=1 \\comma r=2$)                     0.113            0.950   \nMHV($d=2 \\comma r=1$)                     0.099            0.950   \nTNA($r=1 \\comma T=0.001$)                 0.007            0.815   \nTNA($r=2 \\comma T=0.001$)                 0.004            0.538   \nTNA($r=3 \\comma T=0.001$)                 0.001            0.241   \nTNA($r=3 \\comma T=100m_{nh}$)             0.001            0.241   \nTNA($r=r_{max} \\comma T=0.1$)             1.000            1.000   \nTNA($r=r_{max} \\comma T=0.01$)            0.137            0.000   \nTNA($r=r_{max} \\comma T=0.001$)           0.002            0.000   \nTNA($r=r_{max} \\comma T=10m_{nh}$)        0.002            0.000   \nTNA($r=r_{max} \\comma T=100m_{nh}$)       0.135            0.000   \n\n                                     Long range 0.10  Long range 0.15  \nname                                                                   \nMHV($d=1 \\comma r=1$)                          0.901            0.848  \nMHV($d=2 \\comma r=2$)                          0.900            0.848  \nMHV($d=1 \\comma r=2$)                          0.900            0.848  \nMHV($d=2 \\comma r=1$)                          0.901            0.848  \nTNA($r=1 \\comma T=0.001$)                      0.656            0.523  \nTNA($r=2 \\comma T=0.001$)                      0.281            0.142  \nTNA($r=3 \\comma T=0.001$)                      0.046            0.009  \nTNA($r=3 \\comma T=100m_{nh}$)                  0.046            0.009  \nTNA($r=r_{max} \\comma T=0.1$)                  0.671            0.000  \nTNA($r=r_{max} \\comma T=0.01$)                 0.000            0.000  \nTNA($r=r_{max} \\comma T=0.001$)                0.000            0.000  \nTNA($r=r_{max} \\comma T=10m_{nh}$)             0.000            0.000  \nTNA($r=r_{max} \\comma T=100m_{nh}$)            0.000            0.000  ",
      "text/html": "<div>\n<style scoped>\n    .dataframe tbody tr th:only-of-type {\n        vertical-align: middle;\n    }\n\n    .dataframe tbody tr th {\n        vertical-align: top;\n    }\n\n    .dataframe thead th {\n        text-align: right;\n    }\n</style>\n<table border=\"1\" class=\"dataframe\">\n  <thead>\n    <tr style=\"text-align: right;\">\n      <th></th>\n      <th>Full random</th>\n      <th>Full verbatim</th>\n      <th>Checkerboard 3x3</th>\n      <th>Checkerboard 1x1</th>\n      <th>Checkerboard 5x5</th>\n      <th>Patches 5</th>\n      <th>Patches 10</th>\n      <th>Patches 20</th>\n      <th>Long range 0.05</th>\n      <th>Long range 0.10</th>\n      <th>Long range 0.15</th>\n    </tr>\n    <tr>\n      <th>name</th>\n      <th></th>\n      <th></th>\n      <th></th>\n      <th></th>\n      <th></th>\n      <th></th>\n      <th></th>\n      <th></th>\n      <th></th>\n      <th></th>\n      <th></th>\n    </tr>\n  </thead>\n  <tbody>\n    <tr>\n      <th>MHV($d=1 \\comma r=1$)</th>\n      <td>0.000</td>\n      <td>0.0</td>\n      <td>0.332</td>\n      <td>1.000</td>\n      <td>0.332</td>\n      <td>0.090</td>\n      <td>0.091</td>\n      <td>0.099</td>\n      <td>0.950</td>\n      <td>0.901</td>\n      <td>0.848</td>\n    </tr>\n    <tr>\n      <th>MHV($d=2 \\comma r=2$)</th>\n      <td>0.000</td>\n      <td>0.0</td>\n      <td>0.410</td>\n      <td>0.573</td>\n      <td>0.410</td>\n      <td>0.103</td>\n      <td>0.099</td>\n      <td>0.109</td>\n      <td>0.950</td>\n      <td>0.900</td>\n      <td>0.848</td>\n    </tr>\n    <tr>\n      <th>MHV($d=1 \\comma r=2$)</th>\n      <td>0.000</td>\n      <td>0.0</td>\n      <td>0.442</td>\n      <td>0.454</td>\n      <td>0.442</td>\n      <td>0.106</td>\n      <td>0.102</td>\n      <td>0.113</td>\n      <td>0.950</td>\n      <td>0.900</td>\n      <td>0.848</td>\n    </tr>\n    <tr>\n      <th>MHV($d=2 \\comma r=1$)</th>\n      <td>0.000</td>\n      <td>0.0</td>\n      <td>0.332</td>\n      <td>1.000</td>\n      <td>0.332</td>\n      <td>0.090</td>\n      <td>0.091</td>\n      <td>0.099</td>\n      <td>0.950</td>\n      <td>0.901</td>\n      <td>0.848</td>\n    </tr>\n    <tr>\n      <th>TNA($r=1 \\comma T=0.001$)</th>\n      <td>0.000</td>\n      <td>0.0</td>\n      <td>0.000</td>\n      <td>1.000</td>\n      <td>0.000</td>\n      <td>0.005</td>\n      <td>0.002</td>\n      <td>0.007</td>\n      <td>0.815</td>\n      <td>0.656</td>\n      <td>0.523</td>\n    </tr>\n    <tr>\n      <th>TNA($r=2 \\comma T=0.001$)</th>\n      <td>0.000</td>\n      <td>0.0</td>\n      <td>0.000</td>\n      <td>0.000</td>\n      <td>0.000</td>\n      <td>0.005</td>\n      <td>0.001</td>\n      <td>0.004</td>\n      <td>0.538</td>\n      <td>0.281</td>\n      <td>0.142</td>\n    </tr>\n    <tr>\n      <th>TNA($r=3 \\comma T=0.001$)</th>\n      <td>0.001</td>\n      <td>0.0</td>\n      <td>0.000</td>\n      <td>0.000</td>\n      <td>0.000</td>\n      <td>0.008</td>\n      <td>0.003</td>\n      <td>0.001</td>\n      <td>0.241</td>\n      <td>0.046</td>\n      <td>0.009</td>\n    </tr>\n    <tr>\n      <th>TNA($r=3 \\comma T=100m_{nh}$)</th>\n      <td>0.001</td>\n      <td>0.0</td>\n      <td>0.000</td>\n      <td>0.000</td>\n      <td>0.000</td>\n      <td>0.008</td>\n      <td>0.003</td>\n      <td>0.001</td>\n      <td>0.241</td>\n      <td>0.046</td>\n      <td>0.009</td>\n    </tr>\n    <tr>\n      <th>TNA($r=r_{max} \\comma T=0.1$)</th>\n      <td>0.000</td>\n      <td>0.0</td>\n      <td>0.000</td>\n      <td>0.000</td>\n      <td>0.000</td>\n      <td>1.000</td>\n      <td>1.000</td>\n      <td>1.000</td>\n      <td>1.000</td>\n      <td>0.671</td>\n      <td>0.000</td>\n    </tr>\n    <tr>\n      <th>TNA($r=r_{max} \\comma T=0.01$)</th>\n      <td>0.000</td>\n      <td>0.0</td>\n      <td>0.000</td>\n      <td>0.000</td>\n      <td>0.000</td>\n      <td>0.164</td>\n      <td>0.110</td>\n      <td>0.137</td>\n      <td>0.000</td>\n      <td>0.000</td>\n      <td>0.000</td>\n    </tr>\n    <tr>\n      <th>TNA($r=r_{max} \\comma T=0.001$)</th>\n      <td>0.000</td>\n      <td>0.0</td>\n      <td>0.000</td>\n      <td>0.000</td>\n      <td>0.000</td>\n      <td>0.001</td>\n      <td>0.001</td>\n      <td>0.002</td>\n      <td>0.000</td>\n      <td>0.000</td>\n      <td>0.000</td>\n    </tr>\n    <tr>\n      <th>TNA($r=r_{max} \\comma T=10m_{nh}$)</th>\n      <td>0.000</td>\n      <td>0.0</td>\n      <td>0.000</td>\n      <td>0.000</td>\n      <td>0.000</td>\n      <td>0.001</td>\n      <td>0.001</td>\n      <td>0.002</td>\n      <td>0.000</td>\n      <td>0.000</td>\n      <td>0.000</td>\n    </tr>\n    <tr>\n      <th>TNA($r=r_{max} \\comma T=100m_{nh}$)</th>\n      <td>0.000</td>\n      <td>0.0</td>\n      <td>0.000</td>\n      <td>0.000</td>\n      <td>0.000</td>\n      <td>0.164</td>\n      <td>0.110</td>\n      <td>0.135</td>\n      <td>0.000</td>\n      <td>0.000</td>\n      <td>0.000</td>\n    </tr>\n  </tbody>\n</table>\n</div>"
     },
     "execution_count": 18,
     "metadata": {},
     "output_type": "execute_result"
    }
   ],
   "source": [
    "results_table = pd.DataFrame(results_table_data).set_index('name')\n",
    "results_table"
   ],
   "metadata": {
    "collapsed": false,
    "pycharm": {
     "name": "#%%\n"
    }
   }
  },
  {
   "cell_type": "code",
   "execution_count": 19,
   "outputs": [],
   "source": [
    "results_table.drop(['Patches 5', 'Patches 10',\n",
    "       'Patches 20', 'Long range 0.05', 'Long range 0.10',\n",
    "       'Long range 0.15'], axis=1).to_csv('output/results_mae_test_case_table_1.csv')\n",
    "results_table.drop(['Full random', 'Full verbatim', 'Checkerboard 3x3',\n",
    "       'Checkerboard 1x1', 'Checkerboard 5x5'], axis=1).to_csv('output/results_mae_test_case_table_2.csv')"
   ],
   "metadata": {
    "collapsed": false,
    "pycharm": {
     "name": "#%%\n"
    }
   }
  },
  {
   "cell_type": "code",
   "execution_count": 20,
   "outputs": [
    {
     "data": {
      "text/plain": "array(['Full random', 'Full verbatim', 'Checkerboard 3x3',\n       'Checkerboard 1x1', 'Checkerboard 5x5', 'Patches 5', 'Patches 10',\n       'Patches 20', 'Long range 0.05', 'Long range 0.10',\n       'Long range 0.15'], dtype=object)"
     },
     "execution_count": 20,
     "metadata": {},
     "output_type": "execute_result"
    }
   ],
   "source": [
    "results_df['test_case'].unique()"
   ],
   "metadata": {
    "collapsed": false,
    "pycharm": {
     "name": "#%%\n"
    }
   }
  }
 ],
 "metadata": {
  "kernelspec": {
   "display_name": "Python 3",
   "language": "python",
   "name": "python3"
  },
  "language_info": {
   "codemirror_mode": {
    "name": "ipython",
    "version": 2
   },
   "file_extension": ".py",
   "mimetype": "text/x-python",
   "name": "python",
   "nbconvert_exporter": "python",
   "pygments_lexer": "ipython2",
   "version": "2.7.6"
  }
 },
 "nbformat": 4,
 "nbformat_minor": 0
}