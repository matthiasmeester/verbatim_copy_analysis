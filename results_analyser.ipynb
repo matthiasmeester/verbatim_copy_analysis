{
 "cells": [
  {
   "cell_type": "code",
   "execution_count": 29,
   "metadata": {
    "collapsed": true,
    "pycharm": {
     "name": "#%%\n"
    }
   },
   "outputs": [],
   "source": [
    "import pandas as pd\n",
    "from sklearn.metrics import mean_absolute_error"
   ]
  },
  {
   "cell_type": "code",
   "execution_count": 8,
   "outputs": [
    {
     "data": {
      "text/plain": "     run  real_verbatim  predicted_verbatim     test_case_name     category  \\\n0      0         0.0000            0.000037        Full random  full_random   \n1      0         0.0000            0.000032        Full random  full_random   \n2      0         0.0000            0.000031        Full random  full_random   \n3      0         0.0000            0.000037        Full random  full_random   \n4      0         0.0000            0.000150        Full random  full_random   \n..   ...            ...                 ...                ...          ...   \n985    9         0.7491            0.745850  Long range 0.7491   long_range   \n986    9         0.7491            0.749150  Long range 0.7491   long_range   \n987    9         0.7491            0.749100  Long range 0.7491   long_range   \n988    9         0.7491            0.749100  Long range 0.7491   long_range   \n989    9         0.7491            0.749100  Long range 0.7491   long_range   \n\n         algorithm_name  \n0     mean_heat_d=1|r=1  \n1     mean_heat_d=2|r=2  \n2     mean_heat_d=1|r=2  \n3     mean_heat_d=2|r=1  \n4        prop_r=1|T=0.1  \n..                  ...  \n985      prop_r=1|T=0.1  \n986      prop_r=2|T=0.1  \n987    prop_r=max|T=0.1  \n988   prop_r=max|T=0.01  \n989  prop_r=max|T=0.001  \n\n[990 rows x 6 columns]",
      "text/html": "<div>\n<style scoped>\n    .dataframe tbody tr th:only-of-type {\n        vertical-align: middle;\n    }\n\n    .dataframe tbody tr th {\n        vertical-align: top;\n    }\n\n    .dataframe thead th {\n        text-align: right;\n    }\n</style>\n<table border=\"1\" class=\"dataframe\">\n  <thead>\n    <tr style=\"text-align: right;\">\n      <th></th>\n      <th>run</th>\n      <th>real_verbatim</th>\n      <th>predicted_verbatim</th>\n      <th>test_case_name</th>\n      <th>category</th>\n      <th>algorithm_name</th>\n    </tr>\n  </thead>\n  <tbody>\n    <tr>\n      <th>0</th>\n      <td>0</td>\n      <td>0.0000</td>\n      <td>0.000037</td>\n      <td>Full random</td>\n      <td>full_random</td>\n      <td>mean_heat_d=1|r=1</td>\n    </tr>\n    <tr>\n      <th>1</th>\n      <td>0</td>\n      <td>0.0000</td>\n      <td>0.000032</td>\n      <td>Full random</td>\n      <td>full_random</td>\n      <td>mean_heat_d=2|r=2</td>\n    </tr>\n    <tr>\n      <th>2</th>\n      <td>0</td>\n      <td>0.0000</td>\n      <td>0.000031</td>\n      <td>Full random</td>\n      <td>full_random</td>\n      <td>mean_heat_d=1|r=2</td>\n    </tr>\n    <tr>\n      <th>3</th>\n      <td>0</td>\n      <td>0.0000</td>\n      <td>0.000037</td>\n      <td>Full random</td>\n      <td>full_random</td>\n      <td>mean_heat_d=2|r=1</td>\n    </tr>\n    <tr>\n      <th>4</th>\n      <td>0</td>\n      <td>0.0000</td>\n      <td>0.000150</td>\n      <td>Full random</td>\n      <td>full_random</td>\n      <td>prop_r=1|T=0.1</td>\n    </tr>\n    <tr>\n      <th>...</th>\n      <td>...</td>\n      <td>...</td>\n      <td>...</td>\n      <td>...</td>\n      <td>...</td>\n      <td>...</td>\n    </tr>\n    <tr>\n      <th>985</th>\n      <td>9</td>\n      <td>0.7491</td>\n      <td>0.745850</td>\n      <td>Long range 0.7491</td>\n      <td>long_range</td>\n      <td>prop_r=1|T=0.1</td>\n    </tr>\n    <tr>\n      <th>986</th>\n      <td>9</td>\n      <td>0.7491</td>\n      <td>0.749150</td>\n      <td>Long range 0.7491</td>\n      <td>long_range</td>\n      <td>prop_r=2|T=0.1</td>\n    </tr>\n    <tr>\n      <th>987</th>\n      <td>9</td>\n      <td>0.7491</td>\n      <td>0.749100</td>\n      <td>Long range 0.7491</td>\n      <td>long_range</td>\n      <td>prop_r=max|T=0.1</td>\n    </tr>\n    <tr>\n      <th>988</th>\n      <td>9</td>\n      <td>0.7491</td>\n      <td>0.749100</td>\n      <td>Long range 0.7491</td>\n      <td>long_range</td>\n      <td>prop_r=max|T=0.01</td>\n    </tr>\n    <tr>\n      <th>989</th>\n      <td>9</td>\n      <td>0.7491</td>\n      <td>0.749100</td>\n      <td>Long range 0.7491</td>\n      <td>long_range</td>\n      <td>prop_r=max|T=0.001</td>\n    </tr>\n  </tbody>\n</table>\n<p>990 rows × 6 columns</p>\n</div>"
     },
     "execution_count": 8,
     "metadata": {},
     "output_type": "execute_result"
    }
   ],
   "source": [
    "results_df = pd.read_csv('output/results.csv')\n",
    "results_df"
   ],
   "metadata": {
    "collapsed": false,
    "pycharm": {
     "name": "#%%\n"
    }
   }
  },
  {
   "cell_type": "code",
   "execution_count": 39,
   "outputs": [],
   "source": [
    "results_table_data = []\n",
    "\n",
    "for algorithm_name in results_df['algorithm_name'].unique():\n",
    "    algorithm_df = results_df.loc[results_df['algorithm_name'] == algorithm_name]\n",
    "    algorithm_table_row = {\n",
    "        'name': algorithm_name\n",
    "    }\n",
    "    for category in algorithm_df['category'].unique():\n",
    "        category_results = algorithm_df.loc[algorithm_df['category'] == category]\n",
    "        mae = mean_absolute_error(category_results['real_verbatim'], category_results['predicted_verbatim'])\n",
    "        algorithm_table_row[category] = round(mae, 3)\n",
    "\n",
    "    results_table_data.append(algorithm_table_row)"
   ],
   "metadata": {
    "collapsed": false,
    "pycharm": {
     "name": "#%%\n"
    }
   }
  },
  {
   "cell_type": "code",
   "execution_count": 41,
   "outputs": [
    {
     "data": {
      "text/plain": "                 name  full_random  full_verbatim  checkerboard  patches  \\\n0   mean_heat_d=1|r=1          0.0            0.0         0.277    0.017   \n1   mean_heat_d=2|r=2          0.0            0.0         0.232    0.019   \n2   mean_heat_d=1|r=2          0.0            0.0         0.223    0.019   \n3   mean_heat_d=2|r=1          0.0            0.0         0.277    0.017   \n4      prop_r=1|T=0.1          0.0            0.0         0.167    0.001   \n5      prop_r=2|T=0.1          0.0            0.0         0.000    0.000   \n6    prop_r=max|T=0.1          0.0            0.0         0.000    0.181   \n7   prop_r=max|T=0.01          0.0            0.0         0.000    0.021   \n8  prop_r=max|T=0.001          0.0            0.0         0.000    0.000   \n\n   long_range  \n0       0.176  \n1       0.176  \n2       0.176  \n3       0.176  \n4       0.033  \n5       0.009  \n6       0.022  \n7       0.000  \n8       0.000  ",
      "text/html": "<div>\n<style scoped>\n    .dataframe tbody tr th:only-of-type {\n        vertical-align: middle;\n    }\n\n    .dataframe tbody tr th {\n        vertical-align: top;\n    }\n\n    .dataframe thead th {\n        text-align: right;\n    }\n</style>\n<table border=\"1\" class=\"dataframe\">\n  <thead>\n    <tr style=\"text-align: right;\">\n      <th></th>\n      <th>name</th>\n      <th>full_random</th>\n      <th>full_verbatim</th>\n      <th>checkerboard</th>\n      <th>patches</th>\n      <th>long_range</th>\n    </tr>\n  </thead>\n  <tbody>\n    <tr>\n      <th>0</th>\n      <td>mean_heat_d=1|r=1</td>\n      <td>0.0</td>\n      <td>0.0</td>\n      <td>0.277</td>\n      <td>0.017</td>\n      <td>0.176</td>\n    </tr>\n    <tr>\n      <th>1</th>\n      <td>mean_heat_d=2|r=2</td>\n      <td>0.0</td>\n      <td>0.0</td>\n      <td>0.232</td>\n      <td>0.019</td>\n      <td>0.176</td>\n    </tr>\n    <tr>\n      <th>2</th>\n      <td>mean_heat_d=1|r=2</td>\n      <td>0.0</td>\n      <td>0.0</td>\n      <td>0.223</td>\n      <td>0.019</td>\n      <td>0.176</td>\n    </tr>\n    <tr>\n      <th>3</th>\n      <td>mean_heat_d=2|r=1</td>\n      <td>0.0</td>\n      <td>0.0</td>\n      <td>0.277</td>\n      <td>0.017</td>\n      <td>0.176</td>\n    </tr>\n    <tr>\n      <th>4</th>\n      <td>prop_r=1|T=0.1</td>\n      <td>0.0</td>\n      <td>0.0</td>\n      <td>0.167</td>\n      <td>0.001</td>\n      <td>0.033</td>\n    </tr>\n    <tr>\n      <th>5</th>\n      <td>prop_r=2|T=0.1</td>\n      <td>0.0</td>\n      <td>0.0</td>\n      <td>0.000</td>\n      <td>0.000</td>\n      <td>0.009</td>\n    </tr>\n    <tr>\n      <th>6</th>\n      <td>prop_r=max|T=0.1</td>\n      <td>0.0</td>\n      <td>0.0</td>\n      <td>0.000</td>\n      <td>0.181</td>\n      <td>0.022</td>\n    </tr>\n    <tr>\n      <th>7</th>\n      <td>prop_r=max|T=0.01</td>\n      <td>0.0</td>\n      <td>0.0</td>\n      <td>0.000</td>\n      <td>0.021</td>\n      <td>0.000</td>\n    </tr>\n    <tr>\n      <th>8</th>\n      <td>prop_r=max|T=0.001</td>\n      <td>0.0</td>\n      <td>0.0</td>\n      <td>0.000</td>\n      <td>0.000</td>\n      <td>0.000</td>\n    </tr>\n  </tbody>\n</table>\n</div>"
     },
     "execution_count": 41,
     "metadata": {},
     "output_type": "execute_result"
    }
   ],
   "source": [
    "results_table = pd.DataFrame(results_table_data)\n",
    "results_table"
   ],
   "metadata": {
    "collapsed": false,
    "pycharm": {
     "name": "#%%\n"
    }
   }
  }
 ],
 "metadata": {
  "kernelspec": {
   "display_name": "Python 3",
   "language": "python",
   "name": "python3"
  },
  "language_info": {
   "codemirror_mode": {
    "name": "ipython",
    "version": 2
   },
   "file_extension": ".py",
   "mimetype": "text/x-python",
   "name": "python",
   "nbconvert_exporter": "python",
   "pygments_lexer": "ipython2",
   "version": "2.7.6"
  }
 },
 "nbformat": 4,
 "nbformat_minor": 0
}