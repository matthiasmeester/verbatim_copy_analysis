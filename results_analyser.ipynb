{
 "cells": [
  {
   "cell_type": "code",
   "execution_count": 380,
   "metadata": {
    "collapsed": true,
    "pycharm": {
     "name": "#%%\n"
    }
   },
   "outputs": [],
   "source": [
    "import pandas as pd\n",
    "import math\n",
    "from sklearn.metrics import mean_squared_error, mean_absolute_error\n",
    "import numpy as np"
   ]
  },
  {
   "cell_type": "code",
   "execution_count": 381,
   "outputs": [
    {
     "data": {
      "text/plain": "      run  real_verbatim  predicted_verbatim        test_case     category  \\\n0       0          0.000               0.000      Full random  full_random   \n1       0          0.000               0.000      Full random  full_random   \n2       0          0.000               0.000      Full random  full_random   \n3       0          0.000               0.000      Full random  full_random   \n4       0          0.000               0.000      Full random  full_random   \n...   ...            ...                 ...              ...          ...   \n1095    9          0.151               0.130  Long range 0.15   long_range   \n1096    9          0.151               0.150  Long range 0.15   long_range   \n1097    9          0.151               0.151  Long range 0.15   long_range   \n1098    9          0.151               0.151  Long range 0.15   long_range   \n1099    9          0.151               0.151  Long range 0.15   long_range   \n\n          algorithm_name  \n0      mean_heat_d=1|r=1  \n1      mean_heat_d=2|r=2  \n2      mean_heat_d=1|r=2  \n3      mean_heat_d=2|r=1  \n4       prop_r=1|T=0.001  \n...                  ...  \n1095    prop_r=2|T=0.001  \n1096    prop_r=3|T=0.001  \n1097    prop_r=max|T=0.1  \n1098   prop_r=max|T=0.01  \n1099  prop_r=max|T=0.001  \n\n[1100 rows x 6 columns]",
      "text/html": "<div>\n<style scoped>\n    .dataframe tbody tr th:only-of-type {\n        vertical-align: middle;\n    }\n\n    .dataframe tbody tr th {\n        vertical-align: top;\n    }\n\n    .dataframe thead th {\n        text-align: right;\n    }\n</style>\n<table border=\"1\" class=\"dataframe\">\n  <thead>\n    <tr style=\"text-align: right;\">\n      <th></th>\n      <th>run</th>\n      <th>real_verbatim</th>\n      <th>predicted_verbatim</th>\n      <th>test_case</th>\n      <th>category</th>\n      <th>algorithm_name</th>\n    </tr>\n  </thead>\n  <tbody>\n    <tr>\n      <th>0</th>\n      <td>0</td>\n      <td>0.000</td>\n      <td>0.000</td>\n      <td>Full random</td>\n      <td>full_random</td>\n      <td>mean_heat_d=1|r=1</td>\n    </tr>\n    <tr>\n      <th>1</th>\n      <td>0</td>\n      <td>0.000</td>\n      <td>0.000</td>\n      <td>Full random</td>\n      <td>full_random</td>\n      <td>mean_heat_d=2|r=2</td>\n    </tr>\n    <tr>\n      <th>2</th>\n      <td>0</td>\n      <td>0.000</td>\n      <td>0.000</td>\n      <td>Full random</td>\n      <td>full_random</td>\n      <td>mean_heat_d=1|r=2</td>\n    </tr>\n    <tr>\n      <th>3</th>\n      <td>0</td>\n      <td>0.000</td>\n      <td>0.000</td>\n      <td>Full random</td>\n      <td>full_random</td>\n      <td>mean_heat_d=2|r=1</td>\n    </tr>\n    <tr>\n      <th>4</th>\n      <td>0</td>\n      <td>0.000</td>\n      <td>0.000</td>\n      <td>Full random</td>\n      <td>full_random</td>\n      <td>prop_r=1|T=0.001</td>\n    </tr>\n    <tr>\n      <th>...</th>\n      <td>...</td>\n      <td>...</td>\n      <td>...</td>\n      <td>...</td>\n      <td>...</td>\n      <td>...</td>\n    </tr>\n    <tr>\n      <th>1095</th>\n      <td>9</td>\n      <td>0.151</td>\n      <td>0.130</td>\n      <td>Long range 0.15</td>\n      <td>long_range</td>\n      <td>prop_r=2|T=0.001</td>\n    </tr>\n    <tr>\n      <th>1096</th>\n      <td>9</td>\n      <td>0.151</td>\n      <td>0.150</td>\n      <td>Long range 0.15</td>\n      <td>long_range</td>\n      <td>prop_r=3|T=0.001</td>\n    </tr>\n    <tr>\n      <th>1097</th>\n      <td>9</td>\n      <td>0.151</td>\n      <td>0.151</td>\n      <td>Long range 0.15</td>\n      <td>long_range</td>\n      <td>prop_r=max|T=0.1</td>\n    </tr>\n    <tr>\n      <th>1098</th>\n      <td>9</td>\n      <td>0.151</td>\n      <td>0.151</td>\n      <td>Long range 0.15</td>\n      <td>long_range</td>\n      <td>prop_r=max|T=0.01</td>\n    </tr>\n    <tr>\n      <th>1099</th>\n      <td>9</td>\n      <td>0.151</td>\n      <td>0.151</td>\n      <td>Long range 0.15</td>\n      <td>long_range</td>\n      <td>prop_r=max|T=0.001</td>\n    </tr>\n  </tbody>\n</table>\n<p>1100 rows × 6 columns</p>\n</div>"
     },
     "execution_count": 381,
     "metadata": {},
     "output_type": "execute_result"
    }
   ],
   "source": [
    "results_df = pd.read_csv('output/results.csv')\n",
    "results_df = results_df.round(3)\n",
    "results_df"
   ],
   "metadata": {
    "collapsed": false,
    "pycharm": {
     "name": "#%%\n"
    }
   }
  },
  {
   "cell_type": "code",
   "execution_count": 382,
   "outputs": [],
   "source": [
    "results_table_data = []\n",
    "\n",
    "for algorithm_name in results_df['algorithm_name'].unique():\n",
    "    algorithm_df = results_df.loc[results_df['algorithm_name'] == algorithm_name]\n",
    "    algorithm_table_row = {\n",
    "        'name': algorithm_name\n",
    "    }\n",
    "    for category in algorithm_df['category'].unique():\n",
    "        category_results = algorithm_df.loc[algorithm_df['category'] == category]\n",
    "        mae = mean_absolute_error(category_results['real_verbatim'], category_results['predicted_verbatim'])\n",
    "        if np.mean(category_results['real_verbatim']) > 0:\n",
    "            mae /= (np.mean(category_results['real_verbatim']))\n",
    "        algorithm_table_row[category] = round(mae, 3)\n",
    "\n",
    "    results_table_data.append(algorithm_table_row)"
   ],
   "metadata": {
    "collapsed": false,
    "pycharm": {
     "name": "#%%\n"
    }
   }
  },
  {
   "cell_type": "code",
   "execution_count": 383,
   "outputs": [
    {
     "data": {
      "text/plain": "                 name  full_random  full_verbatim  checkerboard  patches  \\\n0   mean_heat_d=1|r=1        0.000            0.0         0.555    0.095   \n1   mean_heat_d=2|r=2        0.000            0.0         0.465    0.104   \n2   mean_heat_d=1|r=2        0.000            0.0         0.446    0.107   \n3   mean_heat_d=2|r=1        0.000            0.0         0.555    0.095   \n4    prop_r=1|T=0.001        0.000            0.0         0.333    0.005   \n5    prop_r=2|T=0.001        0.000            0.0         0.000    0.004   \n6    prop_r=3|T=0.001        0.001            0.0         0.000    0.002   \n7    prop_r=max|T=0.1        0.000            0.0         0.000    1.000   \n8   prop_r=max|T=0.01        0.000            0.0         0.000    0.126   \n9  prop_r=max|T=0.001        0.000            0.0         0.000    0.001   \n\n   long_range  \n0       0.883  \n1       0.885  \n2       0.884  \n3       0.883  \n4       0.618  \n5       0.261  \n6       0.059  \n7       0.394  \n8       0.000  \n9       0.000  ",
      "text/html": "<div>\n<style scoped>\n    .dataframe tbody tr th:only-of-type {\n        vertical-align: middle;\n    }\n\n    .dataframe tbody tr th {\n        vertical-align: top;\n    }\n\n    .dataframe thead th {\n        text-align: right;\n    }\n</style>\n<table border=\"1\" class=\"dataframe\">\n  <thead>\n    <tr style=\"text-align: right;\">\n      <th></th>\n      <th>name</th>\n      <th>full_random</th>\n      <th>full_verbatim</th>\n      <th>checkerboard</th>\n      <th>patches</th>\n      <th>long_range</th>\n    </tr>\n  </thead>\n  <tbody>\n    <tr>\n      <th>0</th>\n      <td>mean_heat_d=1|r=1</td>\n      <td>0.000</td>\n      <td>0.0</td>\n      <td>0.555</td>\n      <td>0.095</td>\n      <td>0.883</td>\n    </tr>\n    <tr>\n      <th>1</th>\n      <td>mean_heat_d=2|r=2</td>\n      <td>0.000</td>\n      <td>0.0</td>\n      <td>0.465</td>\n      <td>0.104</td>\n      <td>0.885</td>\n    </tr>\n    <tr>\n      <th>2</th>\n      <td>mean_heat_d=1|r=2</td>\n      <td>0.000</td>\n      <td>0.0</td>\n      <td>0.446</td>\n      <td>0.107</td>\n      <td>0.884</td>\n    </tr>\n    <tr>\n      <th>3</th>\n      <td>mean_heat_d=2|r=1</td>\n      <td>0.000</td>\n      <td>0.0</td>\n      <td>0.555</td>\n      <td>0.095</td>\n      <td>0.883</td>\n    </tr>\n    <tr>\n      <th>4</th>\n      <td>prop_r=1|T=0.001</td>\n      <td>0.000</td>\n      <td>0.0</td>\n      <td>0.333</td>\n      <td>0.005</td>\n      <td>0.618</td>\n    </tr>\n    <tr>\n      <th>5</th>\n      <td>prop_r=2|T=0.001</td>\n      <td>0.000</td>\n      <td>0.0</td>\n      <td>0.000</td>\n      <td>0.004</td>\n      <td>0.261</td>\n    </tr>\n    <tr>\n      <th>6</th>\n      <td>prop_r=3|T=0.001</td>\n      <td>0.001</td>\n      <td>0.0</td>\n      <td>0.000</td>\n      <td>0.002</td>\n      <td>0.059</td>\n    </tr>\n    <tr>\n      <th>7</th>\n      <td>prop_r=max|T=0.1</td>\n      <td>0.000</td>\n      <td>0.0</td>\n      <td>0.000</td>\n      <td>1.000</td>\n      <td>0.394</td>\n    </tr>\n    <tr>\n      <th>8</th>\n      <td>prop_r=max|T=0.01</td>\n      <td>0.000</td>\n      <td>0.0</td>\n      <td>0.000</td>\n      <td>0.126</td>\n      <td>0.000</td>\n    </tr>\n    <tr>\n      <th>9</th>\n      <td>prop_r=max|T=0.001</td>\n      <td>0.000</td>\n      <td>0.0</td>\n      <td>0.000</td>\n      <td>0.001</td>\n      <td>0.000</td>\n    </tr>\n  </tbody>\n</table>\n</div>"
     },
     "execution_count": 383,
     "metadata": {},
     "output_type": "execute_result"
    }
   ],
   "source": [
    "results_table = pd.DataFrame(results_table_data)\n",
    "results_table"
   ],
   "metadata": {
    "collapsed": false,
    "pycharm": {
     "name": "#%%\n"
    }
   }
  },
  {
   "cell_type": "code",
   "execution_count": 384,
   "outputs": [],
   "source": [
    "results_table.to_csv('output/results_mae_category_table.csv')"
   ],
   "metadata": {
    "collapsed": false,
    "pycharm": {
     "name": "#%%\n"
    }
   }
  },
  {
   "cell_type": "code",
   "execution_count": 385,
   "outputs": [],
   "source": [
    "results_table_data = []\n",
    "\n",
    "for algorithm_name in results_df['algorithm_name'].unique():\n",
    "    algorithm_df = results_df.loc[results_df['algorithm_name'] == algorithm_name]\n",
    "    algorithm_table_row = {\n",
    "        'name': algorithm_name\n",
    "    }\n",
    "    for test_case in algorithm_df['test_case'].unique():\n",
    "        test_case_results = algorithm_df.loc[algorithm_df['test_case'] == test_case]\n",
    "        mae = mean_absolute_error(test_case_results['real_verbatim'], test_case_results['predicted_verbatim'])\n",
    "        if np.mean(test_case_results['real_verbatim']) > 0:\n",
    "            mae /= (np.mean(test_case_results['real_verbatim']))\n",
    "        algorithm_table_row[test_case] = round(mae, 3)\n",
    "\n",
    "    results_table_data.append(algorithm_table_row)"
   ],
   "metadata": {
    "collapsed": false,
    "pycharm": {
     "name": "#%%\n"
    }
   }
  },
  {
   "cell_type": "code",
   "execution_count": 386,
   "outputs": [
    {
     "data": {
      "text/plain": "                 name  Full random  Full verbatim  Checkerboard 3x3  \\\n0   mean_heat_d=1|r=1        0.000            0.0             0.332   \n1   mean_heat_d=2|r=2        0.000            0.0             0.410   \n2   mean_heat_d=1|r=2        0.000            0.0             0.442   \n3   mean_heat_d=2|r=1        0.000            0.0             0.332   \n4    prop_r=1|T=0.001        0.000            0.0             0.000   \n5    prop_r=2|T=0.001        0.000            0.0             0.000   \n6    prop_r=3|T=0.001        0.001            0.0             0.000   \n7    prop_r=max|T=0.1        0.000            0.0             0.000   \n8   prop_r=max|T=0.01        0.000            0.0             0.000   \n9  prop_r=max|T=0.001        0.000            0.0             0.000   \n\n   Checkerboard 1x1  Checkerboard 5x5  Patches 5  Patches 10  Patches 20  \\\n0             1.000             0.332      0.085       0.090       0.100   \n1             0.574             0.410      0.094       0.098       0.110   \n2             0.454             0.442      0.098       0.101       0.113   \n3             1.000             0.332      0.085       0.090       0.100   \n4             1.000             0.000      0.001       0.003       0.007   \n5             0.000             0.000      0.007       0.001       0.004   \n6             0.000             0.000      0.009       0.002       0.001   \n7             0.000             0.000      1.000       1.000       1.000   \n8             0.000             0.000      0.123       0.101       0.140   \n9             0.000             0.000      0.003       0.001       0.000   \n\n   Long range 0.05  Long range 0.10  Long range 0.15  \n0            0.945            0.899            0.851  \n1            0.954            0.901            0.851  \n2            0.954            0.900            0.851  \n3            0.945            0.899            0.851  \n4            0.816            0.657            0.526  \n5            0.549            0.291            0.145  \n6            0.234            0.049            0.008  \n7            1.000            0.684            0.000  \n8            0.000            0.000            0.000  \n9            0.000            0.000            0.000  ",
      "text/html": "<div>\n<style scoped>\n    .dataframe tbody tr th:only-of-type {\n        vertical-align: middle;\n    }\n\n    .dataframe tbody tr th {\n        vertical-align: top;\n    }\n\n    .dataframe thead th {\n        text-align: right;\n    }\n</style>\n<table border=\"1\" class=\"dataframe\">\n  <thead>\n    <tr style=\"text-align: right;\">\n      <th></th>\n      <th>name</th>\n      <th>Full random</th>\n      <th>Full verbatim</th>\n      <th>Checkerboard 3x3</th>\n      <th>Checkerboard 1x1</th>\n      <th>Checkerboard 5x5</th>\n      <th>Patches 5</th>\n      <th>Patches 10</th>\n      <th>Patches 20</th>\n      <th>Long range 0.05</th>\n      <th>Long range 0.10</th>\n      <th>Long range 0.15</th>\n    </tr>\n  </thead>\n  <tbody>\n    <tr>\n      <th>0</th>\n      <td>mean_heat_d=1|r=1</td>\n      <td>0.000</td>\n      <td>0.0</td>\n      <td>0.332</td>\n      <td>1.000</td>\n      <td>0.332</td>\n      <td>0.085</td>\n      <td>0.090</td>\n      <td>0.100</td>\n      <td>0.945</td>\n      <td>0.899</td>\n      <td>0.851</td>\n    </tr>\n    <tr>\n      <th>1</th>\n      <td>mean_heat_d=2|r=2</td>\n      <td>0.000</td>\n      <td>0.0</td>\n      <td>0.410</td>\n      <td>0.574</td>\n      <td>0.410</td>\n      <td>0.094</td>\n      <td>0.098</td>\n      <td>0.110</td>\n      <td>0.954</td>\n      <td>0.901</td>\n      <td>0.851</td>\n    </tr>\n    <tr>\n      <th>2</th>\n      <td>mean_heat_d=1|r=2</td>\n      <td>0.000</td>\n      <td>0.0</td>\n      <td>0.442</td>\n      <td>0.454</td>\n      <td>0.442</td>\n      <td>0.098</td>\n      <td>0.101</td>\n      <td>0.113</td>\n      <td>0.954</td>\n      <td>0.900</td>\n      <td>0.851</td>\n    </tr>\n    <tr>\n      <th>3</th>\n      <td>mean_heat_d=2|r=1</td>\n      <td>0.000</td>\n      <td>0.0</td>\n      <td>0.332</td>\n      <td>1.000</td>\n      <td>0.332</td>\n      <td>0.085</td>\n      <td>0.090</td>\n      <td>0.100</td>\n      <td>0.945</td>\n      <td>0.899</td>\n      <td>0.851</td>\n    </tr>\n    <tr>\n      <th>4</th>\n      <td>prop_r=1|T=0.001</td>\n      <td>0.000</td>\n      <td>0.0</td>\n      <td>0.000</td>\n      <td>1.000</td>\n      <td>0.000</td>\n      <td>0.001</td>\n      <td>0.003</td>\n      <td>0.007</td>\n      <td>0.816</td>\n      <td>0.657</td>\n      <td>0.526</td>\n    </tr>\n    <tr>\n      <th>5</th>\n      <td>prop_r=2|T=0.001</td>\n      <td>0.000</td>\n      <td>0.0</td>\n      <td>0.000</td>\n      <td>0.000</td>\n      <td>0.000</td>\n      <td>0.007</td>\n      <td>0.001</td>\n      <td>0.004</td>\n      <td>0.549</td>\n      <td>0.291</td>\n      <td>0.145</td>\n    </tr>\n    <tr>\n      <th>6</th>\n      <td>prop_r=3|T=0.001</td>\n      <td>0.001</td>\n      <td>0.0</td>\n      <td>0.000</td>\n      <td>0.000</td>\n      <td>0.000</td>\n      <td>0.009</td>\n      <td>0.002</td>\n      <td>0.001</td>\n      <td>0.234</td>\n      <td>0.049</td>\n      <td>0.008</td>\n    </tr>\n    <tr>\n      <th>7</th>\n      <td>prop_r=max|T=0.1</td>\n      <td>0.000</td>\n      <td>0.0</td>\n      <td>0.000</td>\n      <td>0.000</td>\n      <td>0.000</td>\n      <td>1.000</td>\n      <td>1.000</td>\n      <td>1.000</td>\n      <td>1.000</td>\n      <td>0.684</td>\n      <td>0.000</td>\n    </tr>\n    <tr>\n      <th>8</th>\n      <td>prop_r=max|T=0.01</td>\n      <td>0.000</td>\n      <td>0.0</td>\n      <td>0.000</td>\n      <td>0.000</td>\n      <td>0.000</td>\n      <td>0.123</td>\n      <td>0.101</td>\n      <td>0.140</td>\n      <td>0.000</td>\n      <td>0.000</td>\n      <td>0.000</td>\n    </tr>\n    <tr>\n      <th>9</th>\n      <td>prop_r=max|T=0.001</td>\n      <td>0.000</td>\n      <td>0.0</td>\n      <td>0.000</td>\n      <td>0.000</td>\n      <td>0.000</td>\n      <td>0.003</td>\n      <td>0.001</td>\n      <td>0.000</td>\n      <td>0.000</td>\n      <td>0.000</td>\n      <td>0.000</td>\n    </tr>\n  </tbody>\n</table>\n</div>"
     },
     "execution_count": 386,
     "metadata": {},
     "output_type": "execute_result"
    }
   ],
   "source": [
    "results_table = pd.DataFrame(results_table_data)\n",
    "results_table"
   ],
   "metadata": {
    "collapsed": false,
    "pycharm": {
     "name": "#%%\n"
    }
   }
  },
  {
   "cell_type": "code",
   "execution_count": 387,
   "outputs": [],
   "source": [
    "results_table.to_csv('output/results_mae_test_case_table.csv')"
   ],
   "metadata": {
    "collapsed": false,
    "pycharm": {
     "name": "#%%\n"
    }
   }
  },
  {
   "cell_type": "code",
   "execution_count": 388,
   "outputs": [
    {
     "data": {
      "text/plain": "array(['Full random', 'Full verbatim', 'Checkerboard 3x3',\n       'Checkerboard 1x1', 'Checkerboard 5x5', 'Patches 5', 'Patches 10',\n       'Patches 20', 'Long range 0.05', 'Long range 0.10',\n       'Long range 0.15'], dtype=object)"
     },
     "execution_count": 388,
     "metadata": {},
     "output_type": "execute_result"
    }
   ],
   "source": [
    "results_df['test_case'].unique()"
   ],
   "metadata": {
    "collapsed": false,
    "pycharm": {
     "name": "#%%\n"
    }
   }
  }
 ],
 "metadata": {
  "kernelspec": {
   "display_name": "Python 3",
   "language": "python",
   "name": "python3"
  },
  "language_info": {
   "codemirror_mode": {
    "name": "ipython",
    "version": 2
   },
   "file_extension": ".py",
   "mimetype": "text/x-python",
   "name": "python",
   "nbconvert_exporter": "python",
   "pygments_lexer": "ipython2",
   "version": "2.7.6"
  }
 },
 "nbformat": 4,
 "nbformat_minor": 0
}