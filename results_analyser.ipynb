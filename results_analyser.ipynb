{
 "cells": [
  {
   "cell_type": "code",
   "execution_count": 22,
   "metadata": {
    "collapsed": true,
    "pycharm": {
     "name": "#%%\n"
    }
   },
   "outputs": [],
   "source": [
    "import pandas as pd\n",
    "import math\n",
    "from sklearn.metrics import mean_squared_error, mean_absolute_error\n",
    "import numpy as np"
   ]
  },
  {
   "cell_type": "code",
   "execution_count": 23,
   "outputs": [
    {
     "data": {
      "text/plain": "     real_verbatim  predicted_verbatim        test_case     category  \\\nrun                                                                    \n0            0.000               0.000      Full random  full_random   \n0            0.000               0.000      Full random  full_random   \n0            0.000               0.000      Full random  full_random   \n0            0.000               0.000      Full random  full_random   \n0            0.000               0.000      Full random  full_random   \n..             ...                 ...              ...          ...   \n9            0.149               0.149  Long range 0.15   long_range   \n9            0.149               0.149  Long range 0.15   long_range   \n9            0.149               0.149  Long range 0.15   long_range   \n9            0.149               0.149  Long range 0.15   long_range   \n9            0.149               0.149  Long range 0.15   long_range   \n\n                  algorithm_name  \nrun                               \n0           Mean Heat: d=1 | r=1  \n0           Mean Heat: d=2 | r=2  \n0           Mean Heat: d=1 | r=2  \n0           Mean Heat: d=2 | r=1  \n0       Prop Neigh r=1 | T=0.001  \n..                           ...  \n9      Prop Neigh r=max | T=0.01  \n9     Prop Neigh r=max | T=0.001  \n9     Prop Neigh r=max | T=0.001  \n9     Prop Neigh r=max | T=10mnh  \n9    Prop Neigh r=max | T=100mnh  \n\n[1430 rows x 5 columns]",
      "text/html": "<div>\n<style scoped>\n    .dataframe tbody tr th:only-of-type {\n        vertical-align: middle;\n    }\n\n    .dataframe tbody tr th {\n        vertical-align: top;\n    }\n\n    .dataframe thead th {\n        text-align: right;\n    }\n</style>\n<table border=\"1\" class=\"dataframe\">\n  <thead>\n    <tr style=\"text-align: right;\">\n      <th></th>\n      <th>real_verbatim</th>\n      <th>predicted_verbatim</th>\n      <th>test_case</th>\n      <th>category</th>\n      <th>algorithm_name</th>\n    </tr>\n    <tr>\n      <th>run</th>\n      <th></th>\n      <th></th>\n      <th></th>\n      <th></th>\n      <th></th>\n    </tr>\n  </thead>\n  <tbody>\n    <tr>\n      <th>0</th>\n      <td>0.000</td>\n      <td>0.000</td>\n      <td>Full random</td>\n      <td>full_random</td>\n      <td>Mean Heat: d=1 | r=1</td>\n    </tr>\n    <tr>\n      <th>0</th>\n      <td>0.000</td>\n      <td>0.000</td>\n      <td>Full random</td>\n      <td>full_random</td>\n      <td>Mean Heat: d=2 | r=2</td>\n    </tr>\n    <tr>\n      <th>0</th>\n      <td>0.000</td>\n      <td>0.000</td>\n      <td>Full random</td>\n      <td>full_random</td>\n      <td>Mean Heat: d=1 | r=2</td>\n    </tr>\n    <tr>\n      <th>0</th>\n      <td>0.000</td>\n      <td>0.000</td>\n      <td>Full random</td>\n      <td>full_random</td>\n      <td>Mean Heat: d=2 | r=1</td>\n    </tr>\n    <tr>\n      <th>0</th>\n      <td>0.000</td>\n      <td>0.000</td>\n      <td>Full random</td>\n      <td>full_random</td>\n      <td>Prop Neigh r=1 | T=0.001</td>\n    </tr>\n    <tr>\n      <th>...</th>\n      <td>...</td>\n      <td>...</td>\n      <td>...</td>\n      <td>...</td>\n      <td>...</td>\n    </tr>\n    <tr>\n      <th>9</th>\n      <td>0.149</td>\n      <td>0.149</td>\n      <td>Long range 0.15</td>\n      <td>long_range</td>\n      <td>Prop Neigh r=max | T=0.01</td>\n    </tr>\n    <tr>\n      <th>9</th>\n      <td>0.149</td>\n      <td>0.149</td>\n      <td>Long range 0.15</td>\n      <td>long_range</td>\n      <td>Prop Neigh r=max | T=0.001</td>\n    </tr>\n    <tr>\n      <th>9</th>\n      <td>0.149</td>\n      <td>0.149</td>\n      <td>Long range 0.15</td>\n      <td>long_range</td>\n      <td>Prop Neigh r=max | T=0.001</td>\n    </tr>\n    <tr>\n      <th>9</th>\n      <td>0.149</td>\n      <td>0.149</td>\n      <td>Long range 0.15</td>\n      <td>long_range</td>\n      <td>Prop Neigh r=max | T=10mnh</td>\n    </tr>\n    <tr>\n      <th>9</th>\n      <td>0.149</td>\n      <td>0.149</td>\n      <td>Long range 0.15</td>\n      <td>long_range</td>\n      <td>Prop Neigh r=max | T=100mnh</td>\n    </tr>\n  </tbody>\n</table>\n<p>1430 rows × 5 columns</p>\n</div>"
     },
     "execution_count": 23,
     "metadata": {},
     "output_type": "execute_result"
    }
   ],
   "source": [
    "results_df = pd.read_csv('output/results.csv')\n",
    "results_df = results_df.round(3).set_index('run')\n",
    "results_df"
   ],
   "metadata": {
    "collapsed": false,
    "pycharm": {
     "name": "#%%\n"
    }
   }
  },
  {
   "cell_type": "code",
   "execution_count": 24,
   "outputs": [],
   "source": [
    "def mean_relative_error(true, expected):\n",
    "    if np.allclose(true, 0):\n",
    "        return np.mean(expected)\n",
    "    relative_error = np.abs(expected - true) / true\n",
    "    return np.mean(relative_error)"
   ],
   "metadata": {
    "collapsed": false,
    "pycharm": {
     "name": "#%%\n"
    }
   }
  },
  {
   "cell_type": "code",
   "execution_count": 25,
   "outputs": [],
   "source": [
    "results_table_data = []\n",
    "\n",
    "for algorithm_name in results_df['algorithm_name'].unique():\n",
    "    algorithm_df = results_df.loc[results_df['algorithm_name'] == algorithm_name]\n",
    "    algorithm_table_row = {\n",
    "        'name': algorithm_name\n",
    "    }\n",
    "    for category in algorithm_df['category'].unique():\n",
    "        category_results = algorithm_df.loc[algorithm_df['category'] == category]\n",
    "        mre = mean_relative_error(category_results['real_verbatim'], category_results['predicted_verbatim'])\n",
    "        algorithm_table_row[category] = round(mre, 3)\n",
    "\n",
    "    results_table_data.append(algorithm_table_row)"
   ],
   "metadata": {
    "collapsed": false,
    "pycharm": {
     "name": "#%%\n"
    }
   }
  },
  {
   "cell_type": "code",
   "execution_count": 26,
   "outputs": [
    {
     "data": {
      "text/plain": "                             full_random  full_verbatim  checkerboard  \\\nname                                                                    \nMean Heat: d=1 | r=1               0.000            0.0         0.555   \nMean Heat: d=2 | r=2               0.000            0.0         0.464   \nMean Heat: d=1 | r=2               0.000            0.0         0.446   \nMean Heat: d=2 | r=1               0.000            0.0         0.555   \nProp Neigh r=1 | T=0.001           0.000            0.0         0.333   \nProp Neigh r=2 | T=0.001           0.000            0.0         0.000   \nProp Neigh r=3 | T=0.001           0.001            0.0         0.000   \nProp Neigh r=max | T=0.1           0.000            0.0         0.000   \nProp Neigh r=max | T=0.01          0.000            0.0         0.000   \nProp Neigh r=max | T=0.001         0.000            0.0         0.000   \nProp Neigh r=max | T=10mnh         0.000            0.0         0.000   \nProp Neigh r=max | T=100mnh        0.000            0.0         0.000   \n\n                             patches  long_range  \nname                                              \nMean Heat: d=1 | r=1           0.096       0.900  \nMean Heat: d=2 | r=2           0.104       0.899  \nMean Heat: d=1 | r=2           0.107       0.900  \nMean Heat: d=2 | r=1           0.096       0.900  \nProp Neigh r=1 | T=0.001       0.003       0.666  \nProp Neigh r=2 | T=0.001       0.003       0.323  \nProp Neigh r=3 | T=0.001       0.004       0.096  \nProp Neigh r=max | T=0.1       1.000       0.596  \nProp Neigh r=max | T=0.01      0.152       0.000  \nProp Neigh r=max | T=0.001     0.001       0.000  \nProp Neigh r=max | T=10mnh     0.001       0.000  \nProp Neigh r=max | T=100mnh    0.153       0.000  ",
      "text/html": "<div>\n<style scoped>\n    .dataframe tbody tr th:only-of-type {\n        vertical-align: middle;\n    }\n\n    .dataframe tbody tr th {\n        vertical-align: top;\n    }\n\n    .dataframe thead th {\n        text-align: right;\n    }\n</style>\n<table border=\"1\" class=\"dataframe\">\n  <thead>\n    <tr style=\"text-align: right;\">\n      <th></th>\n      <th>full_random</th>\n      <th>full_verbatim</th>\n      <th>checkerboard</th>\n      <th>patches</th>\n      <th>long_range</th>\n    </tr>\n    <tr>\n      <th>name</th>\n      <th></th>\n      <th></th>\n      <th></th>\n      <th></th>\n      <th></th>\n    </tr>\n  </thead>\n  <tbody>\n    <tr>\n      <th>Mean Heat: d=1 | r=1</th>\n      <td>0.000</td>\n      <td>0.0</td>\n      <td>0.555</td>\n      <td>0.096</td>\n      <td>0.900</td>\n    </tr>\n    <tr>\n      <th>Mean Heat: d=2 | r=2</th>\n      <td>0.000</td>\n      <td>0.0</td>\n      <td>0.464</td>\n      <td>0.104</td>\n      <td>0.899</td>\n    </tr>\n    <tr>\n      <th>Mean Heat: d=1 | r=2</th>\n      <td>0.000</td>\n      <td>0.0</td>\n      <td>0.446</td>\n      <td>0.107</td>\n      <td>0.900</td>\n    </tr>\n    <tr>\n      <th>Mean Heat: d=2 | r=1</th>\n      <td>0.000</td>\n      <td>0.0</td>\n      <td>0.555</td>\n      <td>0.096</td>\n      <td>0.900</td>\n    </tr>\n    <tr>\n      <th>Prop Neigh r=1 | T=0.001</th>\n      <td>0.000</td>\n      <td>0.0</td>\n      <td>0.333</td>\n      <td>0.003</td>\n      <td>0.666</td>\n    </tr>\n    <tr>\n      <th>Prop Neigh r=2 | T=0.001</th>\n      <td>0.000</td>\n      <td>0.0</td>\n      <td>0.000</td>\n      <td>0.003</td>\n      <td>0.323</td>\n    </tr>\n    <tr>\n      <th>Prop Neigh r=3 | T=0.001</th>\n      <td>0.001</td>\n      <td>0.0</td>\n      <td>0.000</td>\n      <td>0.004</td>\n      <td>0.096</td>\n    </tr>\n    <tr>\n      <th>Prop Neigh r=max | T=0.1</th>\n      <td>0.000</td>\n      <td>0.0</td>\n      <td>0.000</td>\n      <td>1.000</td>\n      <td>0.596</td>\n    </tr>\n    <tr>\n      <th>Prop Neigh r=max | T=0.01</th>\n      <td>0.000</td>\n      <td>0.0</td>\n      <td>0.000</td>\n      <td>0.152</td>\n      <td>0.000</td>\n    </tr>\n    <tr>\n      <th>Prop Neigh r=max | T=0.001</th>\n      <td>0.000</td>\n      <td>0.0</td>\n      <td>0.000</td>\n      <td>0.001</td>\n      <td>0.000</td>\n    </tr>\n    <tr>\n      <th>Prop Neigh r=max | T=10mnh</th>\n      <td>0.000</td>\n      <td>0.0</td>\n      <td>0.000</td>\n      <td>0.001</td>\n      <td>0.000</td>\n    </tr>\n    <tr>\n      <th>Prop Neigh r=max | T=100mnh</th>\n      <td>0.000</td>\n      <td>0.0</td>\n      <td>0.000</td>\n      <td>0.153</td>\n      <td>0.000</td>\n    </tr>\n  </tbody>\n</table>\n</div>"
     },
     "execution_count": 26,
     "metadata": {},
     "output_type": "execute_result"
    }
   ],
   "source": [
    "results_table = pd.DataFrame(results_table_data).set_index('name')\n",
    "results_table"
   ],
   "metadata": {
    "collapsed": false,
    "pycharm": {
     "name": "#%%\n"
    }
   }
  },
  {
   "cell_type": "code",
   "execution_count": 27,
   "outputs": [],
   "source": [
    "results_table.to_csv('output/results_mae_category_table.csv')"
   ],
   "metadata": {
    "collapsed": false,
    "pycharm": {
     "name": "#%%\n"
    }
   }
  },
  {
   "cell_type": "code",
   "execution_count": 28,
   "outputs": [],
   "source": [
    "results_table_data = []\n",
    "\n",
    "for algorithm_name in results_df['algorithm_name'].unique():\n",
    "    algorithm_df = results_df.loc[results_df['algorithm_name'] == algorithm_name]\n",
    "    algorithm_table_row = {\n",
    "        'name': algorithm_name\n",
    "    }\n",
    "    for test_case in algorithm_df['test_case'].unique():\n",
    "        test_case_results = algorithm_df.loc[algorithm_df['test_case'] == test_case]\n",
    "        mre = mean_relative_error(test_case_results['real_verbatim'], test_case_results['predicted_verbatim'])\n",
    "        algorithm_table_row[test_case] = round(mre, 3)\n",
    "\n",
    "    results_table_data.append(algorithm_table_row)"
   ],
   "metadata": {
    "collapsed": false,
    "pycharm": {
     "name": "#%%\n"
    }
   }
  },
  {
   "cell_type": "code",
   "execution_count": 29,
   "outputs": [
    {
     "data": {
      "text/plain": "                             Full random  Full verbatim  Checkerboard 3x3  \\\nname                                                                        \nMean Heat: d=1 | r=1               0.000            0.0             0.332   \nMean Heat: d=2 | r=2               0.000            0.0             0.410   \nMean Heat: d=1 | r=2               0.000            0.0             0.442   \nMean Heat: d=2 | r=1               0.000            0.0             0.332   \nProp Neigh r=1 | T=0.001           0.000            0.0             0.000   \nProp Neigh r=2 | T=0.001           0.000            0.0             0.000   \nProp Neigh r=3 | T=0.001           0.001            0.0             0.000   \nProp Neigh r=max | T=0.1           0.000            0.0             0.000   \nProp Neigh r=max | T=0.01          0.000            0.0             0.000   \nProp Neigh r=max | T=0.001         0.000            0.0             0.000   \nProp Neigh r=max | T=10mnh         0.000            0.0             0.000   \nProp Neigh r=max | T=100mnh        0.000            0.0             0.000   \n\n                             Checkerboard 1x1  Checkerboard 5x5  Patches 5  \\\nname                                                                         \nMean Heat: d=1 | r=1                    1.000             0.332      0.102   \nMean Heat: d=2 | r=2                    0.573             0.410      0.110   \nMean Heat: d=1 | r=2                    0.454             0.442      0.111   \nMean Heat: d=2 | r=1                    1.000             0.332      0.102   \nProp Neigh r=1 | T=0.001                1.000             0.000      0.000   \nProp Neigh r=2 | T=0.001                0.000             0.000      0.005   \nProp Neigh r=3 | T=0.001                0.000             0.000      0.010   \nProp Neigh r=max | T=0.1                0.000             0.000      1.000   \nProp Neigh r=max | T=0.01               0.000             0.000      0.229   \nProp Neigh r=max | T=0.001              0.000             0.000      0.002   \nProp Neigh r=max | T=10mnh              0.000             0.000      0.002   \nProp Neigh r=max | T=100mnh             0.000             0.000      0.229   \n\n                             Patches 10  Patches 20  Long range 0.05  \\\nname                                                                   \nMean Heat: d=1 | r=1              0.087       0.099            0.948   \nMean Heat: d=2 | r=2              0.094       0.109            0.946   \nMean Heat: d=1 | r=2              0.098       0.112            0.948   \nMean Heat: d=2 | r=1              0.087       0.099            0.948   \nProp Neigh r=1 | T=0.001          0.002       0.008            0.813   \nProp Neigh r=2 | T=0.001          0.001       0.005            0.538   \nProp Neigh r=3 | T=0.001          0.003       0.001            0.227   \nProp Neigh r=max | T=0.1          1.000       1.000            1.000   \nProp Neigh r=max | T=0.01         0.093       0.133            0.000   \nProp Neigh r=max | T=0.001        0.001       0.000            0.000   \nProp Neigh r=max | T=10mnh        0.001       0.000            0.000   \nProp Neigh r=max | T=100mnh       0.095       0.137            0.000   \n\n                             Long range 0.10  Long range 0.15  \nname                                                           \nMean Heat: d=1 | r=1                   0.900            0.852  \nMean Heat: d=2 | r=2                   0.901            0.851  \nMean Heat: d=1 | r=2                   0.901            0.851  \nMean Heat: d=2 | r=1                   0.900            0.852  \nProp Neigh r=1 | T=0.001               0.659            0.526  \nProp Neigh r=2 | T=0.001               0.287            0.145  \nProp Neigh r=3 | T=0.001               0.053            0.009  \nProp Neigh r=max | T=0.1               0.787            0.000  \nProp Neigh r=max | T=0.01              0.000            0.000  \nProp Neigh r=max | T=0.001             0.000            0.000  \nProp Neigh r=max | T=10mnh             0.000            0.000  \nProp Neigh r=max | T=100mnh            0.000            0.000  ",
      "text/html": "<div>\n<style scoped>\n    .dataframe tbody tr th:only-of-type {\n        vertical-align: middle;\n    }\n\n    .dataframe tbody tr th {\n        vertical-align: top;\n    }\n\n    .dataframe thead th {\n        text-align: right;\n    }\n</style>\n<table border=\"1\" class=\"dataframe\">\n  <thead>\n    <tr style=\"text-align: right;\">\n      <th></th>\n      <th>Full random</th>\n      <th>Full verbatim</th>\n      <th>Checkerboard 3x3</th>\n      <th>Checkerboard 1x1</th>\n      <th>Checkerboard 5x5</th>\n      <th>Patches 5</th>\n      <th>Patches 10</th>\n      <th>Patches 20</th>\n      <th>Long range 0.05</th>\n      <th>Long range 0.10</th>\n      <th>Long range 0.15</th>\n    </tr>\n    <tr>\n      <th>name</th>\n      <th></th>\n      <th></th>\n      <th></th>\n      <th></th>\n      <th></th>\n      <th></th>\n      <th></th>\n      <th></th>\n      <th></th>\n      <th></th>\n      <th></th>\n    </tr>\n  </thead>\n  <tbody>\n    <tr>\n      <th>Mean Heat: d=1 | r=1</th>\n      <td>0.000</td>\n      <td>0.0</td>\n      <td>0.332</td>\n      <td>1.000</td>\n      <td>0.332</td>\n      <td>0.102</td>\n      <td>0.087</td>\n      <td>0.099</td>\n      <td>0.948</td>\n      <td>0.900</td>\n      <td>0.852</td>\n    </tr>\n    <tr>\n      <th>Mean Heat: d=2 | r=2</th>\n      <td>0.000</td>\n      <td>0.0</td>\n      <td>0.410</td>\n      <td>0.573</td>\n      <td>0.410</td>\n      <td>0.110</td>\n      <td>0.094</td>\n      <td>0.109</td>\n      <td>0.946</td>\n      <td>0.901</td>\n      <td>0.851</td>\n    </tr>\n    <tr>\n      <th>Mean Heat: d=1 | r=2</th>\n      <td>0.000</td>\n      <td>0.0</td>\n      <td>0.442</td>\n      <td>0.454</td>\n      <td>0.442</td>\n      <td>0.111</td>\n      <td>0.098</td>\n      <td>0.112</td>\n      <td>0.948</td>\n      <td>0.901</td>\n      <td>0.851</td>\n    </tr>\n    <tr>\n      <th>Mean Heat: d=2 | r=1</th>\n      <td>0.000</td>\n      <td>0.0</td>\n      <td>0.332</td>\n      <td>1.000</td>\n      <td>0.332</td>\n      <td>0.102</td>\n      <td>0.087</td>\n      <td>0.099</td>\n      <td>0.948</td>\n      <td>0.900</td>\n      <td>0.852</td>\n    </tr>\n    <tr>\n      <th>Prop Neigh r=1 | T=0.001</th>\n      <td>0.000</td>\n      <td>0.0</td>\n      <td>0.000</td>\n      <td>1.000</td>\n      <td>0.000</td>\n      <td>0.000</td>\n      <td>0.002</td>\n      <td>0.008</td>\n      <td>0.813</td>\n      <td>0.659</td>\n      <td>0.526</td>\n    </tr>\n    <tr>\n      <th>Prop Neigh r=2 | T=0.001</th>\n      <td>0.000</td>\n      <td>0.0</td>\n      <td>0.000</td>\n      <td>0.000</td>\n      <td>0.000</td>\n      <td>0.005</td>\n      <td>0.001</td>\n      <td>0.005</td>\n      <td>0.538</td>\n      <td>0.287</td>\n      <td>0.145</td>\n    </tr>\n    <tr>\n      <th>Prop Neigh r=3 | T=0.001</th>\n      <td>0.001</td>\n      <td>0.0</td>\n      <td>0.000</td>\n      <td>0.000</td>\n      <td>0.000</td>\n      <td>0.010</td>\n      <td>0.003</td>\n      <td>0.001</td>\n      <td>0.227</td>\n      <td>0.053</td>\n      <td>0.009</td>\n    </tr>\n    <tr>\n      <th>Prop Neigh r=max | T=0.1</th>\n      <td>0.000</td>\n      <td>0.0</td>\n      <td>0.000</td>\n      <td>0.000</td>\n      <td>0.000</td>\n      <td>1.000</td>\n      <td>1.000</td>\n      <td>1.000</td>\n      <td>1.000</td>\n      <td>0.787</td>\n      <td>0.000</td>\n    </tr>\n    <tr>\n      <th>Prop Neigh r=max | T=0.01</th>\n      <td>0.000</td>\n      <td>0.0</td>\n      <td>0.000</td>\n      <td>0.000</td>\n      <td>0.000</td>\n      <td>0.229</td>\n      <td>0.093</td>\n      <td>0.133</td>\n      <td>0.000</td>\n      <td>0.000</td>\n      <td>0.000</td>\n    </tr>\n    <tr>\n      <th>Prop Neigh r=max | T=0.001</th>\n      <td>0.000</td>\n      <td>0.0</td>\n      <td>0.000</td>\n      <td>0.000</td>\n      <td>0.000</td>\n      <td>0.002</td>\n      <td>0.001</td>\n      <td>0.000</td>\n      <td>0.000</td>\n      <td>0.000</td>\n      <td>0.000</td>\n    </tr>\n    <tr>\n      <th>Prop Neigh r=max | T=10mnh</th>\n      <td>0.000</td>\n      <td>0.0</td>\n      <td>0.000</td>\n      <td>0.000</td>\n      <td>0.000</td>\n      <td>0.002</td>\n      <td>0.001</td>\n      <td>0.000</td>\n      <td>0.000</td>\n      <td>0.000</td>\n      <td>0.000</td>\n    </tr>\n    <tr>\n      <th>Prop Neigh r=max | T=100mnh</th>\n      <td>0.000</td>\n      <td>0.0</td>\n      <td>0.000</td>\n      <td>0.000</td>\n      <td>0.000</td>\n      <td>0.229</td>\n      <td>0.095</td>\n      <td>0.137</td>\n      <td>0.000</td>\n      <td>0.000</td>\n      <td>0.000</td>\n    </tr>\n  </tbody>\n</table>\n</div>"
     },
     "execution_count": 29,
     "metadata": {},
     "output_type": "execute_result"
    }
   ],
   "source": [
    "results_table = pd.DataFrame(results_table_data).set_index('name')\n",
    "results_table"
   ],
   "metadata": {
    "collapsed": false,
    "pycharm": {
     "name": "#%%\n"
    }
   }
  },
  {
   "cell_type": "code",
   "execution_count": 30,
   "outputs": [],
   "source": [
    "results_table.drop(['Patches 5', 'Patches 10',\n",
    "       'Patches 20', 'Long range 0.05', 'Long range 0.10',\n",
    "       'Long range 0.15'], axis=1).to_csv('output/results_mae_test_case_table_1.csv')\n",
    "results_table.drop(['Full random', 'Full verbatim', 'Checkerboard 3x3',\n",
    "       'Checkerboard 1x1', 'Checkerboard 5x5'], axis=1).to_csv('output/results_mae_test_case_table_2.csv')"
   ],
   "metadata": {
    "collapsed": false,
    "pycharm": {
     "name": "#%%\n"
    }
   }
  },
  {
   "cell_type": "code",
   "execution_count": 31,
   "outputs": [
    {
     "data": {
      "text/plain": "array(['Full random', 'Full verbatim', 'Checkerboard 3x3',\n       'Checkerboard 1x1', 'Checkerboard 5x5', 'Patches 5', 'Patches 10',\n       'Patches 20', 'Long range 0.05', 'Long range 0.10',\n       'Long range 0.15'], dtype=object)"
     },
     "execution_count": 31,
     "metadata": {},
     "output_type": "execute_result"
    }
   ],
   "source": [
    "results_df['test_case'].unique()"
   ],
   "metadata": {
    "collapsed": false,
    "pycharm": {
     "name": "#%%\n"
    }
   }
  }
 ],
 "metadata": {
  "kernelspec": {
   "display_name": "Python 3",
   "language": "python",
   "name": "python3"
  },
  "language_info": {
   "codemirror_mode": {
    "name": "ipython",
    "version": 2
   },
   "file_extension": ".py",
   "mimetype": "text/x-python",
   "name": "python",
   "nbconvert_exporter": "python",
   "pygments_lexer": "ipython2",
   "version": "2.7.6"
  }
 },
 "nbformat": 4,
 "nbformat_minor": 0
}