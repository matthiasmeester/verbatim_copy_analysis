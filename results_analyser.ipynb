{
 "cells": [
  {
   "cell_type": "code",
   "execution_count": 307,
   "metadata": {
    "collapsed": true,
    "pycharm": {
     "name": "#%%\n"
    }
   },
   "outputs": [],
   "source": [
    "import pandas as pd\n",
    "import math\n",
    "from sklearn.metrics import mean_squared_error, mean_absolute_error\n",
    "import numpy as np"
   ]
  },
  {
   "cell_type": "code",
   "execution_count": 308,
   "outputs": [
    {
     "data": {
      "text/plain": "      run  real_verbatim  predicted_verbatim        test_case     category  \\\n0       0          0.000               0.000      Full random  full_random   \n1       0          0.000               0.000      Full random  full_random   \n2       0          0.000               0.000      Full random  full_random   \n3       0          0.000               0.000      Full random  full_random   \n4       0          0.000               0.000      Full random  full_random   \n...   ...            ...                 ...              ...          ...   \n1095    9          0.146               0.124  Long range 0.15   long_range   \n1096    9          0.146               0.144  Long range 0.15   long_range   \n1097    9          0.146               0.146  Long range 0.15   long_range   \n1098    9          0.146               0.146  Long range 0.15   long_range   \n1099    9          0.146               0.146  Long range 0.15   long_range   \n\n          algorithm_name  \n0      mean_heat_d=1|r=1  \n1      mean_heat_d=2|r=2  \n2      mean_heat_d=1|r=2  \n3      mean_heat_d=2|r=1  \n4       prop_r=1|T=0.001  \n...                  ...  \n1095    prop_r=2|T=0.001  \n1096    prop_r=3|T=0.001  \n1097    prop_r=max|T=0.1  \n1098   prop_r=max|T=0.01  \n1099  prop_r=max|T=0.001  \n\n[1100 rows x 6 columns]",
      "text/html": "<div>\n<style scoped>\n    .dataframe tbody tr th:only-of-type {\n        vertical-align: middle;\n    }\n\n    .dataframe tbody tr th {\n        vertical-align: top;\n    }\n\n    .dataframe thead th {\n        text-align: right;\n    }\n</style>\n<table border=\"1\" class=\"dataframe\">\n  <thead>\n    <tr style=\"text-align: right;\">\n      <th></th>\n      <th>run</th>\n      <th>real_verbatim</th>\n      <th>predicted_verbatim</th>\n      <th>test_case</th>\n      <th>category</th>\n      <th>algorithm_name</th>\n    </tr>\n  </thead>\n  <tbody>\n    <tr>\n      <th>0</th>\n      <td>0</td>\n      <td>0.000</td>\n      <td>0.000</td>\n      <td>Full random</td>\n      <td>full_random</td>\n      <td>mean_heat_d=1|r=1</td>\n    </tr>\n    <tr>\n      <th>1</th>\n      <td>0</td>\n      <td>0.000</td>\n      <td>0.000</td>\n      <td>Full random</td>\n      <td>full_random</td>\n      <td>mean_heat_d=2|r=2</td>\n    </tr>\n    <tr>\n      <th>2</th>\n      <td>0</td>\n      <td>0.000</td>\n      <td>0.000</td>\n      <td>Full random</td>\n      <td>full_random</td>\n      <td>mean_heat_d=1|r=2</td>\n    </tr>\n    <tr>\n      <th>3</th>\n      <td>0</td>\n      <td>0.000</td>\n      <td>0.000</td>\n      <td>Full random</td>\n      <td>full_random</td>\n      <td>mean_heat_d=2|r=1</td>\n    </tr>\n    <tr>\n      <th>4</th>\n      <td>0</td>\n      <td>0.000</td>\n      <td>0.000</td>\n      <td>Full random</td>\n      <td>full_random</td>\n      <td>prop_r=1|T=0.001</td>\n    </tr>\n    <tr>\n      <th>...</th>\n      <td>...</td>\n      <td>...</td>\n      <td>...</td>\n      <td>...</td>\n      <td>...</td>\n      <td>...</td>\n    </tr>\n    <tr>\n      <th>1095</th>\n      <td>9</td>\n      <td>0.146</td>\n      <td>0.124</td>\n      <td>Long range 0.15</td>\n      <td>long_range</td>\n      <td>prop_r=2|T=0.001</td>\n    </tr>\n    <tr>\n      <th>1096</th>\n      <td>9</td>\n      <td>0.146</td>\n      <td>0.144</td>\n      <td>Long range 0.15</td>\n      <td>long_range</td>\n      <td>prop_r=3|T=0.001</td>\n    </tr>\n    <tr>\n      <th>1097</th>\n      <td>9</td>\n      <td>0.146</td>\n      <td>0.146</td>\n      <td>Long range 0.15</td>\n      <td>long_range</td>\n      <td>prop_r=max|T=0.1</td>\n    </tr>\n    <tr>\n      <th>1098</th>\n      <td>9</td>\n      <td>0.146</td>\n      <td>0.146</td>\n      <td>Long range 0.15</td>\n      <td>long_range</td>\n      <td>prop_r=max|T=0.01</td>\n    </tr>\n    <tr>\n      <th>1099</th>\n      <td>9</td>\n      <td>0.146</td>\n      <td>0.146</td>\n      <td>Long range 0.15</td>\n      <td>long_range</td>\n      <td>prop_r=max|T=0.001</td>\n    </tr>\n  </tbody>\n</table>\n<p>1100 rows × 6 columns</p>\n</div>"
     },
     "execution_count": 308,
     "metadata": {},
     "output_type": "execute_result"
    }
   ],
   "source": [
    "results_df = pd.read_csv('output/results.csv')\n",
    "results_df = results_df.round(3)\n",
    "results_df"
   ],
   "metadata": {
    "collapsed": false,
    "pycharm": {
     "name": "#%%\n"
    }
   }
  },
  {
   "cell_type": "code",
   "execution_count": 309,
   "outputs": [],
   "source": [
    "results_table_data = []\n",
    "\n",
    "for algorithm_name in results_df['algorithm_name'].unique():\n",
    "    algorithm_df = results_df.loc[results_df['algorithm_name'] == algorithm_name]\n",
    "    algorithm_table_row = {\n",
    "        'name': algorithm_name\n",
    "    }\n",
    "    for category in algorithm_df['category'].unique():\n",
    "        category_results = algorithm_df.loc[algorithm_df['category'] == category]\n",
    "        mae = mean_absolute_error(category_results['real_verbatim'], category_results['predicted_verbatim'])\n",
    "        if (max(category_results['real_verbatim']) - min(category_results['real_verbatim'])) > 0:\n",
    "            mae /= (max(category_results['real_verbatim']) - min(category_results['real_verbatim']))\n",
    "        algorithm_table_row[category] = round(mae, 3)\n",
    "\n",
    "    results_table_data.append(algorithm_table_row)"
   ],
   "metadata": {
    "collapsed": false,
    "pycharm": {
     "name": "#%%\n"
    }
   }
  },
  {
   "cell_type": "code",
   "execution_count": 310,
   "outputs": [
    {
     "data": {
      "text/plain": "                 name  full_random  full_verbatim  checkerboard  patches  \\\n0   mean_heat_d=1|r=1        0.000            0.0         0.277    0.058   \n1   mean_heat_d=2|r=2        0.000            0.0         0.232    0.064   \n2   mean_heat_d=1|r=2        0.000            0.0         0.223    0.066   \n3   mean_heat_d=2|r=1        0.000            0.0         0.277    0.058   \n4    prop_r=1|T=0.001        0.000            0.0         0.167    0.003   \n5    prop_r=2|T=0.001        0.000            0.0         0.000    0.002   \n6    prop_r=3|T=0.001        0.001            0.0         0.000    0.001   \n7    prop_r=max|T=0.1        0.000            0.0         0.000    0.614   \n8   prop_r=max|T=0.01        0.000            0.0         0.000    0.070   \n9  prop_r=max|T=0.001        0.000            0.0         0.000    0.001   \n\n   long_range  \n0       0.839  \n1       0.839  \n2       0.840  \n3       0.839  \n4       0.583  \n5       0.243  \n6       0.057  \n7       0.253  \n8       0.000  \n9       0.000  ",
      "text/html": "<div>\n<style scoped>\n    .dataframe tbody tr th:only-of-type {\n        vertical-align: middle;\n    }\n\n    .dataframe tbody tr th {\n        vertical-align: top;\n    }\n\n    .dataframe thead th {\n        text-align: right;\n    }\n</style>\n<table border=\"1\" class=\"dataframe\">\n  <thead>\n    <tr style=\"text-align: right;\">\n      <th></th>\n      <th>name</th>\n      <th>full_random</th>\n      <th>full_verbatim</th>\n      <th>checkerboard</th>\n      <th>patches</th>\n      <th>long_range</th>\n    </tr>\n  </thead>\n  <tbody>\n    <tr>\n      <th>0</th>\n      <td>mean_heat_d=1|r=1</td>\n      <td>0.000</td>\n      <td>0.0</td>\n      <td>0.277</td>\n      <td>0.058</td>\n      <td>0.839</td>\n    </tr>\n    <tr>\n      <th>1</th>\n      <td>mean_heat_d=2|r=2</td>\n      <td>0.000</td>\n      <td>0.0</td>\n      <td>0.232</td>\n      <td>0.064</td>\n      <td>0.839</td>\n    </tr>\n    <tr>\n      <th>2</th>\n      <td>mean_heat_d=1|r=2</td>\n      <td>0.000</td>\n      <td>0.0</td>\n      <td>0.223</td>\n      <td>0.066</td>\n      <td>0.840</td>\n    </tr>\n    <tr>\n      <th>3</th>\n      <td>mean_heat_d=2|r=1</td>\n      <td>0.000</td>\n      <td>0.0</td>\n      <td>0.277</td>\n      <td>0.058</td>\n      <td>0.839</td>\n    </tr>\n    <tr>\n      <th>4</th>\n      <td>prop_r=1|T=0.001</td>\n      <td>0.000</td>\n      <td>0.0</td>\n      <td>0.167</td>\n      <td>0.003</td>\n      <td>0.583</td>\n    </tr>\n    <tr>\n      <th>5</th>\n      <td>prop_r=2|T=0.001</td>\n      <td>0.000</td>\n      <td>0.0</td>\n      <td>0.000</td>\n      <td>0.002</td>\n      <td>0.243</td>\n    </tr>\n    <tr>\n      <th>6</th>\n      <td>prop_r=3|T=0.001</td>\n      <td>0.001</td>\n      <td>0.0</td>\n      <td>0.000</td>\n      <td>0.001</td>\n      <td>0.057</td>\n    </tr>\n    <tr>\n      <th>7</th>\n      <td>prop_r=max|T=0.1</td>\n      <td>0.000</td>\n      <td>0.0</td>\n      <td>0.000</td>\n      <td>0.614</td>\n      <td>0.253</td>\n    </tr>\n    <tr>\n      <th>8</th>\n      <td>prop_r=max|T=0.01</td>\n      <td>0.000</td>\n      <td>0.0</td>\n      <td>0.000</td>\n      <td>0.070</td>\n      <td>0.000</td>\n    </tr>\n    <tr>\n      <th>9</th>\n      <td>prop_r=max|T=0.001</td>\n      <td>0.000</td>\n      <td>0.0</td>\n      <td>0.000</td>\n      <td>0.001</td>\n      <td>0.000</td>\n    </tr>\n  </tbody>\n</table>\n</div>"
     },
     "execution_count": 310,
     "metadata": {},
     "output_type": "execute_result"
    }
   ],
   "source": [
    "results_table = pd.DataFrame(results_table_data)\n",
    "results_table"
   ],
   "metadata": {
    "collapsed": false,
    "pycharm": {
     "name": "#%%\n"
    }
   }
  },
  {
   "cell_type": "code",
   "execution_count": 311,
   "outputs": [],
   "source": [
    "results_table.to_csv('output/results_mae_category_table.csv')"
   ],
   "metadata": {
    "collapsed": false,
    "pycharm": {
     "name": "#%%\n"
    }
   }
  },
  {
   "cell_type": "code",
   "execution_count": 312,
   "outputs": [],
   "source": [
    "results_table_data = []\n",
    "\n",
    "for algorithm_name in results_df['algorithm_name'].unique():\n",
    "    algorithm_df = results_df.loc[results_df['algorithm_name'] == algorithm_name]\n",
    "    algorithm_table_row = {\n",
    "        'name': algorithm_name\n",
    "    }\n",
    "    for test_case in algorithm_df['test_case'].unique():\n",
    "        test_case_results = algorithm_df.loc[algorithm_df['test_case'] == test_case]\n",
    "        mae = mean_absolute_error(test_case_results['real_verbatim'], test_case_results['predicted_verbatim'])\n",
    "        if (max(test_case_results['real_verbatim']) - min(test_case_results['real_verbatim'])) > 0:\n",
    "            mae /= (max(test_case_results['real_verbatim']) - min(test_case_results['real_verbatim']))\n",
    "        algorithm_table_row[test_case] = round(mae, 3)\n",
    "\n",
    "    results_table_data.append(algorithm_table_row)"
   ],
   "metadata": {
    "collapsed": false,
    "pycharm": {
     "name": "#%%\n"
    }
   }
  },
  {
   "cell_type": "code",
   "execution_count": 313,
   "outputs": [
    {
     "data": {
      "text/plain": "                 name  Full random  Full verbatim  Checkerboard 3x3  \\\n0   mean_heat_d=1|r=1        0.000            0.0             0.166   \n1   mean_heat_d=2|r=2        0.000            0.0             0.205   \n2   mean_heat_d=1|r=2        0.000            0.0             0.221   \n3   mean_heat_d=2|r=1        0.000            0.0             0.166   \n4    prop_r=1|T=0.001        0.000            0.0             0.000   \n5    prop_r=2|T=0.001        0.000            0.0             0.000   \n6    prop_r=3|T=0.001        0.001            0.0             0.000   \n7    prop_r=max|T=0.1        0.000            0.0             0.000   \n8   prop_r=max|T=0.01        0.000            0.0             0.000   \n9  prop_r=max|T=0.001        0.000            0.0             0.000   \n\n   Checkerboard 1x1  Checkerboard 5x5  Patches 5  Patches 10  Patches 20  \\\n0             0.500             0.166      0.140       0.109       0.275   \n1             0.287             0.205      0.156       0.121       0.299   \n2             0.227             0.221      0.158       0.124       0.308   \n3             0.500             0.166      0.140       0.109       0.275   \n4             0.500             0.000      0.004       0.004       0.021   \n5             0.000             0.000      0.007       0.003       0.010   \n6             0.000             0.000      0.009       0.004       0.002   \n7             0.000             0.000      1.593       1.193       2.791   \n8             0.000             0.000      0.140       0.161       0.311   \n9             0.000             0.000      0.002       0.001       0.007   \n\n   Long range 0.05  Long range 0.10  Long range 0.15  \n0             9.44            18.04           21.150  \n1             9.42            18.08           21.150  \n2             9.42            18.08           21.167  \n3             9.44            18.04           21.150  \n4             8.12            13.06           12.983  \n5             5.38             5.64            3.600  \n6             2.30             0.98            0.267  \n7             9.90             6.02            0.017  \n8             0.00             0.00            0.017  \n9             0.00             0.00            0.017  ",
      "text/html": "<div>\n<style scoped>\n    .dataframe tbody tr th:only-of-type {\n        vertical-align: middle;\n    }\n\n    .dataframe tbody tr th {\n        vertical-align: top;\n    }\n\n    .dataframe thead th {\n        text-align: right;\n    }\n</style>\n<table border=\"1\" class=\"dataframe\">\n  <thead>\n    <tr style=\"text-align: right;\">\n      <th></th>\n      <th>name</th>\n      <th>Full random</th>\n      <th>Full verbatim</th>\n      <th>Checkerboard 3x3</th>\n      <th>Checkerboard 1x1</th>\n      <th>Checkerboard 5x5</th>\n      <th>Patches 5</th>\n      <th>Patches 10</th>\n      <th>Patches 20</th>\n      <th>Long range 0.05</th>\n      <th>Long range 0.10</th>\n      <th>Long range 0.15</th>\n    </tr>\n  </thead>\n  <tbody>\n    <tr>\n      <th>0</th>\n      <td>mean_heat_d=1|r=1</td>\n      <td>0.000</td>\n      <td>0.0</td>\n      <td>0.166</td>\n      <td>0.500</td>\n      <td>0.166</td>\n      <td>0.140</td>\n      <td>0.109</td>\n      <td>0.275</td>\n      <td>9.44</td>\n      <td>18.04</td>\n      <td>21.150</td>\n    </tr>\n    <tr>\n      <th>1</th>\n      <td>mean_heat_d=2|r=2</td>\n      <td>0.000</td>\n      <td>0.0</td>\n      <td>0.205</td>\n      <td>0.287</td>\n      <td>0.205</td>\n      <td>0.156</td>\n      <td>0.121</td>\n      <td>0.299</td>\n      <td>9.42</td>\n      <td>18.08</td>\n      <td>21.150</td>\n    </tr>\n    <tr>\n      <th>2</th>\n      <td>mean_heat_d=1|r=2</td>\n      <td>0.000</td>\n      <td>0.0</td>\n      <td>0.221</td>\n      <td>0.227</td>\n      <td>0.221</td>\n      <td>0.158</td>\n      <td>0.124</td>\n      <td>0.308</td>\n      <td>9.42</td>\n      <td>18.08</td>\n      <td>21.167</td>\n    </tr>\n    <tr>\n      <th>3</th>\n      <td>mean_heat_d=2|r=1</td>\n      <td>0.000</td>\n      <td>0.0</td>\n      <td>0.166</td>\n      <td>0.500</td>\n      <td>0.166</td>\n      <td>0.140</td>\n      <td>0.109</td>\n      <td>0.275</td>\n      <td>9.44</td>\n      <td>18.04</td>\n      <td>21.150</td>\n    </tr>\n    <tr>\n      <th>4</th>\n      <td>prop_r=1|T=0.001</td>\n      <td>0.000</td>\n      <td>0.0</td>\n      <td>0.000</td>\n      <td>0.500</td>\n      <td>0.000</td>\n      <td>0.004</td>\n      <td>0.004</td>\n      <td>0.021</td>\n      <td>8.12</td>\n      <td>13.06</td>\n      <td>12.983</td>\n    </tr>\n    <tr>\n      <th>5</th>\n      <td>prop_r=2|T=0.001</td>\n      <td>0.000</td>\n      <td>0.0</td>\n      <td>0.000</td>\n      <td>0.000</td>\n      <td>0.000</td>\n      <td>0.007</td>\n      <td>0.003</td>\n      <td>0.010</td>\n      <td>5.38</td>\n      <td>5.64</td>\n      <td>3.600</td>\n    </tr>\n    <tr>\n      <th>6</th>\n      <td>prop_r=3|T=0.001</td>\n      <td>0.001</td>\n      <td>0.0</td>\n      <td>0.000</td>\n      <td>0.000</td>\n      <td>0.000</td>\n      <td>0.009</td>\n      <td>0.004</td>\n      <td>0.002</td>\n      <td>2.30</td>\n      <td>0.98</td>\n      <td>0.267</td>\n    </tr>\n    <tr>\n      <th>7</th>\n      <td>prop_r=max|T=0.1</td>\n      <td>0.000</td>\n      <td>0.0</td>\n      <td>0.000</td>\n      <td>0.000</td>\n      <td>0.000</td>\n      <td>1.593</td>\n      <td>1.193</td>\n      <td>2.791</td>\n      <td>9.90</td>\n      <td>6.02</td>\n      <td>0.017</td>\n    </tr>\n    <tr>\n      <th>8</th>\n      <td>prop_r=max|T=0.01</td>\n      <td>0.000</td>\n      <td>0.0</td>\n      <td>0.000</td>\n      <td>0.000</td>\n      <td>0.000</td>\n      <td>0.140</td>\n      <td>0.161</td>\n      <td>0.311</td>\n      <td>0.00</td>\n      <td>0.00</td>\n      <td>0.017</td>\n    </tr>\n    <tr>\n      <th>9</th>\n      <td>prop_r=max|T=0.001</td>\n      <td>0.000</td>\n      <td>0.0</td>\n      <td>0.000</td>\n      <td>0.000</td>\n      <td>0.000</td>\n      <td>0.002</td>\n      <td>0.001</td>\n      <td>0.007</td>\n      <td>0.00</td>\n      <td>0.00</td>\n      <td>0.017</td>\n    </tr>\n  </tbody>\n</table>\n</div>"
     },
     "execution_count": 313,
     "metadata": {},
     "output_type": "execute_result"
    }
   ],
   "source": [
    "results_table = pd.DataFrame(results_table_data)\n",
    "results_table"
   ],
   "metadata": {
    "collapsed": false,
    "pycharm": {
     "name": "#%%\n"
    }
   }
  },
  {
   "cell_type": "code",
   "execution_count": 314,
   "outputs": [],
   "source": [
    "results_table.to_csv('output/results_mae_test_case_table.csv')"
   ],
   "metadata": {
    "collapsed": false,
    "pycharm": {
     "name": "#%%\n"
    }
   }
  }
 ],
 "metadata": {
  "kernelspec": {
   "display_name": "Python 3",
   "language": "python",
   "name": "python3"
  },
  "language_info": {
   "codemirror_mode": {
    "name": "ipython",
    "version": 2
   },
   "file_extension": ".py",
   "mimetype": "text/x-python",
   "name": "python",
   "nbconvert_exporter": "python",
   "pygments_lexer": "ipython2",
   "version": "2.7.6"
  }
 },
 "nbformat": 4,
 "nbformat_minor": 0
}